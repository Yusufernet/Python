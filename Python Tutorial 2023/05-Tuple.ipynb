{
 "cells": [
  {
   "cell_type": "code",
   "execution_count": null,
   "id": "c40681f0",
   "metadata": {},
   "outputs": [],
   "source": [
    "my_tuple = (\"apple\", 42, 3.14, True)\n"
   ]
  },
  {
   "cell_type": "markdown",
   "id": "1d674311",
   "metadata": {},
   "source": [
    "Tuplen (suomalaisittain tuple) Pythonissa on muuttumaton (immutable) ja järjestetty tietokokoelma. Tuplet sijoitetaan sulkeiden sisään, ja niiden alkioita erotetaan pilkulla. Tuplet voivat sisältää erilaisia tietotyyppejä, ja niihin pääsee käsiksi indeksoinnin avulla. Kun tuple on luotu, sen arvoja ei voi muuttaa tai lisätä.\n",
    "\n",
    "Tässä on esimerkki tuplen käytöstä"
   ]
  },
  {
   "cell_type": "code",
   "execution_count": null,
   "id": "534fda84",
   "metadata": {},
   "outputs": [],
   "source": [
    "print(my_tuple[0])  # tulostaa \"omena\"\n",
    "print(my_tuple[1])  # tulostaa 42\n"
   ]
  },
  {
   "cell_type": "markdown",
   "id": "ec6f727c",
   "metadata": {},
   "source": [
    "Tässä koodissa luodaan my_tuple-niminen tuple. Tuplessa on erilaisia arvoja, kuten \"omena\", 42, 3.14 ja True. Tuplesta voi päästä käsiksi sen alkioihin indeksoinnin avulla:\n",
    "Koska tuplet ovat muuttumattomia, niiden alkioita ei voi muuttaa tai uusia alkioita lisätä. Voit kuitenkin luoda uuden tuplen käyttämällä olemassa olevaa tuplea:"
   ]
  },
  {
   "cell_type": "code",
   "execution_count": null,
   "id": "aff51362",
   "metadata": {},
   "outputs": [],
   "source": [
    "new_tuple = my_tuple + (\"päärynä\",)\n",
    "print(new_tuple)  # tulostaa (\"omena\", 42, 3.14, True, \"päärynä\")\n"
   ]
  },
  {
   "cell_type": "markdown",
   "id": "33112fff",
   "metadata": {},
   "source": [
    "Tuplet ovat hyödyllisiä erityisesti tilanteissa, joissa tarvitaan muuttumattomia tietoja. Esimerkiksi tuplen avulla voi palauttaa useita arvoja funktiosta. Lisäksi tupleja voi käyttää sanakirjojen avaimina, koska tuplet ovat muuttumattomia ja siten sopivia sanakirjojen avaimiksi."
   ]
  }
 ],
 "metadata": {
  "kernelspec": {
   "display_name": "Python 3 (ipykernel)",
   "language": "python",
   "name": "python3"
  },
  "language_info": {
   "codemirror_mode": {
    "name": "ipython",
    "version": 3
   },
   "file_extension": ".py",
   "mimetype": "text/x-python",
   "name": "python",
   "nbconvert_exporter": "python",
   "pygments_lexer": "ipython3",
   "version": "3.9.13"
  }
 },
 "nbformat": 4,
 "nbformat_minor": 5
}
