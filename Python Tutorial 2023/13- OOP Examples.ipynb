{
 "cells": [
  {
   "cell_type": "code",
   "execution_count": null,
   "id": "82ecb767",
   "metadata": {},
   "outputs": [],
   "source": []
  },
  {
   "cell_type": "markdown",
   "id": "3da519f1",
   "metadata": {},
   "source": [
    "#Inheritance\n",
    "Python Inheritance:\n",
    "Inheritance in Python allows a class to inherit attributes and methods from another class. The class that is being inherited from is called the base class or superclass, and the class that inherits from it is called the derived class or subclass. The derived class inherits all the attributes and methods of the base class and can also override or add new attributes and methods."
   ]
  },
  {
   "cell_type": "markdown",
   "id": "e74bafd3",
   "metadata": {},
   "source": [
    "Periytyminen (inheritance) Pythonissa mahdollistaa luokan perimisen toisesta luokasta. Luokka, josta periytytään, kutsutaan perusluokaksi (base class tai superclass), ja luokka, joka perii sen, kutsutaan johdannaiseksi luokaksi (derived class tai subclass). Johdannainen luokka perii kaikki perusluokan ominaisuudet ja metodit, ja se voi myös korvata tai lisätä uusia ominaisuuksia ja metodeja.\n",
    "\n"
   ]
  },
  {
   "cell_type": "code",
   "execution_count": 1,
   "id": "85aa96f6",
   "metadata": {},
   "outputs": [
    {
     "name": "stdout",
     "output_type": "stream",
     "text": [
      "Musti\n",
      "Koira haukkuu.\n"
     ]
    }
   ],
   "source": [
    "class Eläin:\n",
    "    def __init__(self, nimi):\n",
    "        self.nimi = nimi\n",
    "\n",
    "    def puhu(self):\n",
    "        print(\"Eläin puhuu.\")\n",
    "\n",
    "class Koira(Eläin):\n",
    "    def __init__(self, nimi, rotu):\n",
    "        super().__init__(nimi)\n",
    "        self.rotu = rotu\n",
    "\n",
    "    def puhu(self):\n",
    "        print(\"Koira haukkuu.\")\n",
    "\n",
    "koira1 = Koira(\"Musti\", \"Labradorinnoutaja\")\n",
    "print(koira1.nimi)  # Tuloste: Musti\n",
    "koira1.puhu()  # Tuloste: Koira haukkuu.\n"
   ]
  },
  {
   "cell_type": "markdown",
   "id": "f2f1dda7",
   "metadata": {},
   "source": [
    "Tässä esimerkissä Eläin on perusluokka, joka määrittelee yleiset ominaisuudet ja metodit kaikille eläimille. Koira on johdannainen luokka, joka perii Eläin luokasta ja lisää omat erityisominaisuutensa ja metodinsa. Koira luokka korvaa puhu-metodin ja tarjoaa oman toteutuksensa. super()-funktiota käytetään perusluokan rakentajan kutsumiseen ja perittyjen ominaisuuksien alustamiseen. Johdannaisen luokan objekti koira1 voi käyttää sekä perityt ominaisuudet perusluokasta (nimi) että omat ominaisuutensa (rotu), sekä kutsua sekä perusluokan metodin (puhu) että oman metodin (puhu)."
   ]
  },
  {
   "cell_type": "code",
   "execution_count": 23,
   "id": "707e75b2",
   "metadata": {},
   "outputs": [
    {
     "name": "stdout",
     "output_type": "stream",
     "text": [
      "Buddy barks.\n",
      "Whiskers meows.\n"
     ]
    }
   ],
   "source": [
    "class Animal:\n",
    "    def __init__(self, name):\n",
    "        self.name = name\n",
    "\n",
    "    def speak(self):\n",
    "        print(f\"{self.name} makes a sound.\")\n",
    "\n",
    "class Dog(Animal):\n",
    "    def speak(self):\n",
    "        print(f\"{self.name} barks.\")\n",
    "\n",
    "class Cat(Animal):\n",
    "    def speak(self):\n",
    "        print(f\"{self.name} meows.\")\n",
    "\n",
    "# Create instances of the derived classes\n",
    "dog = Dog(\"Buddy\")\n",
    "cat = Cat(\"Whiskers\")\n",
    "\n",
    "# Call the speak() method on the instances\n",
    "dog.speak()  # Output: Buddy barks.\n",
    "cat.speak()  # Output: Whiskers meows.\n"
   ]
  },
  {
   "cell_type": "code",
   "execution_count": null,
   "id": "88754534",
   "metadata": {},
   "outputs": [],
   "source": [
    "class Ajoneuvo:\n",
    "    def __init__(self, merkki, vuosi):\n",
    "        self.merkki = merkki\n",
    "        self.vuosi = vuosi\n",
    "\n",
    "    def kiihdyta(self):\n",
    "        print(f\"{self.merkki} kiihdyttää.\")\n",
    "\n",
    "    def jarruta(self):\n",
    "        print(f\"{self.merkki} jarruttaa.\")\n",
    "\n",
    "class Auto(Ajoneuvo):\n",
    "    def __init__(self, merkki, vuosi, polttoaine_tyyppi):\n",
    "        super().__init__(merkki, vuosi)\n",
    "        self.polttoaine_tyyppi = polttoaine_tyyppi\n",
    "\n",
    "    def torvi(self):\n",
    "        print(f\"{self.merkki} soittaa torvea.\")\n",
    "\n",
    "class Polkupyora(Ajoneuvo):\n",
    "    def polje(self):\n",
    "        print(f\"{self.merkki} polkee.\")\n",
    "\n",
    "# Luodaan johdettujen luokkien ilmentymiä\n",
    "auto = Auto(\"Toyota\", 2022, \"Bensiini\")\n",
    "polkupyora = Polkupyora(\"Trek\", 2021)\n",
    "\n",
    "# Kutsutaan metodeja ilmentymillä\n",
    "auto.kiihdyta()        # Tulostaa: Toyota kiihdyttää.\n",
    "auto.torvi()           # Tulostaa: Toyota soittaa torvea.\n",
    "\n",
    "polkupyora.jarruta()   # Tulostaa: Trek jarruttaa.\n",
    "polkupyora.polje()     # Tulostaa: Trek polkee.\n"
   ]
  },
  {
   "cell_type": "markdown",
   "id": "0ed92004",
   "metadata": {},
   "source": [
    "Tässä esimerkissä meillä on pohjaluokka Ajoneuvo, jossa on __init__-metodi merkin ja vuoden attribuuttien alustamiseksi. Luokassa on myös kiihdyta- ja jarruta-metodit yleisille ajoneuvojen toiminnoille.\n",
    "\n",
    "Johdettu luokka Auto perii Ajoneuvo-luokan ja lisää polttoaine_tyyppi-attribuutin. Lisäksi se määrittelee oman torvi-metodinsa, joka on autoon liittyvä toiminto.\n",
    "\n",
    "Polkupyora-luokka perii myös Ajoneuvo-luokan ja lisää polje-metodin, joka on polkupyörään liittyvä toiminto.\n",
    "\n",
    "Kun luomme johdettujen luokkien ilmentymiä, ne perivät attribuutit ja metodit pohjaluokasta. Johdetuilla luokilla voi kuitenkin olla omia lisäattribuutteja ja -metodeja. Voimme kutsua metodeja ilmentymillä, ja kyseisen luokan sopiva metodi suoritetaan.\n",
    "\n",
    "Tämä esimerkki osoittaa, kuinka perintä mahdollistaa erikoistuneiden luokkien määrittämisen, jotka perivät ja laajentavat pohjaluokan toimintaa, luoden hierarkian liittyvistä luokista."
   ]
  },
  {
   "cell_type": "markdown",
   "id": "aceeaa67",
   "metadata": {},
   "source": [
    "# Polymorphism\n"
   ]
  },
  {
   "cell_type": "markdown",
   "id": "beca83e9",
   "metadata": {},
   "source": [
    "Polymorfismi voidaan ajatella tärkeänä käsitteenä olioperustaisessa ohjelmoinnissa. Polymorfismi mahdollistaa samalla nimellä mutta erilaisilla käyttäytymisillä varustettujen olioiden käytön. Toisin sanoen se tarkoittaa, että funktio tai metodi voi toimia samalla nimellä eri tyyppien kanssa.\n",
    "\n",
    "Polymorfismi tarjoaa useita etuja. Ensinnäkin se tekee koodista modulaarisemman ja joustavamman, koska voit yhdistää erityyppiset oliot saman rajapinnan alle. Toiseksi se tekee koodista helpommin luettavan ja ylläpidettävän, koska on selvää, että sama funktio voidaan toteuttaa eri tavoin. Kolmanneksi se lisää koodin laajennettavuutta, koska uuden tyypin lisääminen on mahdollista ilman olemassa olevan koodin muokkaamista.\n",
    "\n",
    "Tässä on muutama esimerkki:\n",
    "\n",
    "Esimerkki 1: Eläinten äänet"
   ]
  },
  {
   "cell_type": "code",
   "execution_count": 24,
   "id": "e1a2e0d9",
   "metadata": {},
   "outputs": [
    {
     "name": "stdout",
     "output_type": "stream",
     "text": [
      "Hau!\n",
      "Miau!\n",
      "Amu!\n"
     ]
    }
   ],
   "source": [
    "class Elain:\n",
    "    def aani(self):\n",
    "        pass\n",
    "\n",
    "class Koira(Elain):\n",
    "    def aani(self):\n",
    "        print(\"Hau!\")\n",
    "\n",
    "class Kissa(Elain):\n",
    "    def aani(self):\n",
    "        print(\"Miau!\")\n",
    "\n",
    "class Lehma(Elain):\n",
    "    def aani(self):\n",
    "        print(\"Amu!\")\n",
    "\n",
    "# Käytetään polymorfismia eläinten äänten esittämiseen:\n",
    "elaimet = [Koira(), Kissa(), Lehma()]\n",
    "for elain in elaimet:\n",
    "    elain.aani()\n"
   ]
  },
  {
   "cell_type": "markdown",
   "id": "c5e2e1c5",
   "metadata": {},
   "source": [
    "Tässä esimerkissä on luotu perusluokka Elain, jolla on aani-metodi. Sitten Koira, Kissa ja Lehma -luokat perivät Elain-luokan ja toteuttavat aani-metodin. Luodaan elaimet-lista ja käydään läpi jokainen eläin. Kutsumalla aani-metodia käytetään polymorfismia ja jokainen eläin tuottaa oikeanlaisen äänen."
   ]
  },
  {
   "cell_type": "code",
   "execution_count": 25,
   "id": "c92b6b2a",
   "metadata": {},
   "outputs": [
    {
     "name": "stdout",
     "output_type": "stream",
     "text": [
      "Auto liikkuu eteenpäin\n",
      "Polkupyörä liikkuu polkemalla\n",
      "Moottoripyörä liikkuu moottorin avulla\n"
     ]
    }
   ],
   "source": [
    "class Ajoneuvo:\n",
    "    def liiku(self):\n",
    "        pass\n",
    "\n",
    "class Auto(Ajoneuvo):\n",
    "    def liiku(self):\n",
    "        print(\"Auto liikkuu eteenpäin\")\n",
    "\n",
    "class Polkupyora(Ajoneuvo):\n",
    "    def liiku(self):\n",
    "        print(\"Polkupyörä liikkuu polkemalla\")\n",
    "\n",
    "class Moottoripyora(Ajoneuvo):\n",
    "    def liiku(self):\n",
    "        print(\"Moottoripyörä liikkuu moottorin avulla\")\n",
    "\n",
    "# Käytetään polymorfismia ajoneuvojen liikuttamiseen:\n",
    "ajoneuvot = [Auto(), Polkupyora(), Moottoripyora()]\n",
    "for ajoneuvo in ajoneuvot:\n",
    "    ajoneuvo.liiku()\n"
   ]
  },
  {
   "cell_type": "markdown",
   "id": "887d9847",
   "metadata": {},
   "source": [
    "Tässä esimerkissä on luotu perusluokka Ajoneuvo, jolla on liiku-metodi. Sitten Auto, Polkupyora ja Moottoripyora -luokat perivät Ajoneuvo-luokan ja toteuttavat liiku-metodin. Luodaan ajoneuvot-lista ja käydään läpi jokainen ajoneuvo. Kutsumalla liiku-metodia käytetään polymorfismia ja jokainen ajoneuvo liikkuu omalla tavallaan.\n",
    "\n",
    "Nämä esimerkit osoittavat, miten polymorfismi mahdollistaa samannimisten metodien käytön eri tyyppien kanssa. Tämä auttaa luomaan joustavampaa ja laajennettavampaa koodia."
   ]
  },
  {
   "cell_type": "markdown",
   "id": "f28f8dc1",
   "metadata": {},
   "source": [
    "# Encapsulation"
   ]
  },
  {
   "cell_type": "markdown",
   "id": "ecc955dc",
   "metadata": {},
   "source": [
    "__ (kaksi alaviivaa) -käyttö, Pythonissa käytetään kapselointia (encapsulation) -ominaisuutta. Tämä ominaisuus mahdollistaa tietojen ja funktioiden yksityisyyden varmistamisen ja pääsyn rajoittamisen.\n",
    "\n",
    "Pythonissa on nimeltään name mangling -ominaisuus, joka automaattisesti muuttaa __ (kaksi alaviivaa) -alkuiset ominaisuuden ja metodin nimet. Tämä estää suoran pääsyn näihin ominaisuuksiin.\n",
    "\n",
    "Tässä tapauksessa __price ominaisuus muutetaan name manglingin avulla muotoon _phone__price. Tällä tavoin estetään suora pääsy ominaisuuteen ulkopuolelta. Pääsy on mahdollista vain luokan sisällä tai luokan metodeiden kautta. Tämä on yksi tapa toteuttaa kapselointia ja varmistaa tietojen yksityisyys ja turvallisuus.\n",
    "\n",
    "Eli tämä käyttö, __ (kaksi alaviivaa) -alkuisille ominaisuuksille name manglingin avulla rajaa pääsyn tietoihin ja hyödyntää kapseloinnin (encapsulation) ominaisuutta. Tämä rajoittaa suoraa pääsyä tietoihin ja mahdollistaa pääsyn vain luokan sisältä tai luokan metodien kautta.\n",
    "\n",
    "\n",
    "\n",
    "\n"
   ]
  },
  {
   "cell_type": "code",
   "execution_count": 43,
   "id": "e00a3b16",
   "metadata": {},
   "outputs": [],
   "source": [
    "class phone():\n",
    "    def __init__(self,name,price):\n",
    "        self.name=name\n",
    "        self.__price=price\n",
    "    def info(self):\n",
    "        print(f\"{self.name} price is: {self.__price}\")\n",
    "    def changePrice(self,price):\n",
    "        self.__price = price\n",
    "    "
   ]
  },
  {
   "cell_type": "code",
   "execution_count": 44,
   "id": "b62cfed9",
   "metadata": {},
   "outputs": [],
   "source": [
    "iphone = phone(\"Iphone 14\", 1400)"
   ]
  },
  {
   "cell_type": "code",
   "execution_count": 45,
   "id": "45b2b34d",
   "metadata": {},
   "outputs": [
    {
     "data": {
      "text/plain": [
       "'Iphone 14'"
      ]
     },
     "execution_count": 45,
     "metadata": {},
     "output_type": "execute_result"
    }
   ],
   "source": [
    "iphone.name"
   ]
  },
  {
   "cell_type": "code",
   "execution_count": 46,
   "id": "6dd3e087",
   "metadata": {},
   "outputs": [
    {
     "name": "stdout",
     "output_type": "stream",
     "text": [
      "Iphone 14 price is: 1400\n"
     ]
    }
   ],
   "source": [
    "iphone.info()"
   ]
  },
  {
   "cell_type": "code",
   "execution_count": 47,
   "id": "ae278afb",
   "metadata": {},
   "outputs": [],
   "source": [
    "iphone.name = (\"Iphone 14 Pro max\")"
   ]
  },
  {
   "cell_type": "code",
   "execution_count": 48,
   "id": "f8323484",
   "metadata": {},
   "outputs": [],
   "source": [
    "iphone.price = 1300"
   ]
  },
  {
   "cell_type": "code",
   "execution_count": 49,
   "id": "0e941aa8",
   "metadata": {},
   "outputs": [
    {
     "name": "stdout",
     "output_type": "stream",
     "text": [
      "Iphone 14 Pro max price is: 1400\n"
     ]
    }
   ],
   "source": [
    "iphone.info()"
   ]
  },
  {
   "cell_type": "code",
   "execution_count": 50,
   "id": "0e7882da",
   "metadata": {},
   "outputs": [
    {
     "data": {
      "text/plain": [
       "'Iphone 14 Pro max'"
      ]
     },
     "execution_count": 50,
     "metadata": {},
     "output_type": "execute_result"
    }
   ],
   "source": [
    "iphone.name"
   ]
  },
  {
   "cell_type": "code",
   "execution_count": 51,
   "id": "1ef14d8d",
   "metadata": {},
   "outputs": [],
   "source": [
    "iphone.changePrice(1600)"
   ]
  },
  {
   "cell_type": "code",
   "execution_count": 53,
   "id": "f179c0ad",
   "metadata": {},
   "outputs": [
    {
     "name": "stdout",
     "output_type": "stream",
     "text": [
      "Iphone 14 Pro max price is: 1600\n"
     ]
    }
   ],
   "source": [
    "iphone.info()"
   ]
  },
  {
   "cell_type": "code",
   "execution_count": 54,
   "id": "b2b700cb",
   "metadata": {},
   "outputs": [],
   "source": [
    "class Puhelin():\n",
    "    def __init__(self, nimi, hinta):\n",
    "        self.nimi = nimi\n",
    "        self.__hinta = hinta\n",
    "        # Puhelin-luokan konstruktori\n",
    "        # Ottaa parametreina nimi ja hinta\n",
    "        # nimi sijoitetaan self.nimi:ksi ja luodaan nimi-attribuutti\n",
    "        # hinta sijoitetaan self.__hinta:ksi ja luodaan __hinta-attribuutti\n",
    "\n",
    "    def info(self):\n",
    "        print(f\"{self.nimi} hinnaksi on: {self.__hinta}\")\n",
    "        # info()-metodi tulostaa puhelimen nimen (self.nimi) ja hinnan (self.__hinta)\n",
    "\n",
    "    def vaihdaHinta(self, hinta):\n",
    "        self.__hinta = hinta\n",
    "        # vaihdaHinta()-metodi muuttaa self.__hinta:n arvoa\n",
    "        # Se asettaa hinta-parametrin arvon self.__hinta:ksi\n"
   ]
  },
  {
   "cell_type": "markdown",
   "id": "b0b1b438",
   "metadata": {},
   "source": [
    "Tässä koodissa on määritelty Puhelin-luokka. Luokalla on ominaisuudet (nimi ja __hinta) sekä kolme metodia (__init__, info ja vaihdaHinta).\n",
    "\n",
    "__init__-metodi toimii luokan rakentajana (constructor). Tämä metodi kutsutaan automaattisesti, kun luodaan Puhelin-olio. Se ottaa parametreina nimi ja hinta. nimi sijoitetaan self.nimi-muuttujaan ja luodaan nimi-ominaisuus. hinta sijoitetaan self.__hinta-muuttujaan ja luodaan __hinta-ominaisuus.\n",
    "\n",
    "info-metodi tulostaa puhelimen nimen (self.nimi) ja hinnan (self.__hinta) näytölle.\n",
    "\n",
    "vaihdaHinta-metodi muuttaa self.__hinta-ominaisuuden arvoa. Se asettaa hinta-parametrin arvon self.__hinta:ksi.\n",
    "\n",
    "Tämä koodi voi tallentaa puhelimen nimen ja hinnan sekä antaa pääsyn näihin tietoihin ja mahdollisuuden muuttaa hintaa. __hinta-ominaisuus on piilotettu name manglingin avulla, joten suoraa pääsyä siihen estetään. Sitä voidaan kuitenkin käyttää vain info- ja vaihdaHinta-metodien kautta."
   ]
  },
  {
   "cell_type": "markdown",
   "id": "7bc6e1a8",
   "metadata": {},
   "source": [
    "# Abstraction"
   ]
  },
  {
   "cell_type": "code",
   "execution_count": 19,
   "id": "f8452338",
   "metadata": {},
   "outputs": [],
   "source": [
    "class Banana():\n",
    "    def __init__(self,name):\n",
    "        self.name=name\n",
    "    def info(self):\n",
    "        return f\"100 calories {self.name}\"\n",
    "class Apple():\n",
    "    def __init__(self,name):\n",
    "        self.name=name\n",
    "    def info(self):\n",
    "        return f\"120 calories {self.name}\""
   ]
  },
  {
   "cell_type": "code",
   "execution_count": 20,
   "id": "914f66a6",
   "metadata": {},
   "outputs": [],
   "source": [
    "banana=Banana(\"banana\")"
   ]
  },
  {
   "cell_type": "code",
   "execution_count": 21,
   "id": "c6758ffb",
   "metadata": {},
   "outputs": [
    {
     "data": {
      "text/plain": [
       "'100 calories banana'"
      ]
     },
     "execution_count": 21,
     "metadata": {},
     "output_type": "execute_result"
    }
   ],
   "source": [
    "banana.info()"
   ]
  },
  {
   "cell_type": "code",
   "execution_count": 27,
   "id": "dbaece90",
   "metadata": {},
   "outputs": [],
   "source": [
    "apple=Apple(\"apple\")"
   ]
  },
  {
   "cell_type": "code",
   "execution_count": 28,
   "id": "1f8d5cb5",
   "metadata": {},
   "outputs": [
    {
     "data": {
      "text/plain": [
       "'120 calories apple'"
      ]
     },
     "execution_count": 28,
     "metadata": {},
     "output_type": "execute_result"
    }
   ],
   "source": [
    "apple.info()"
   ]
  },
  {
   "cell_type": "code",
   "execution_count": 29,
   "id": "08c4383c",
   "metadata": {},
   "outputs": [],
   "source": [
    "fruitList = [banana,apple]"
   ]
  },
  {
   "cell_type": "code",
   "execution_count": 30,
   "id": "9159be6f",
   "metadata": {},
   "outputs": [
    {
     "name": "stdout",
     "output_type": "stream",
     "text": [
      "100 calories banana\n",
      "120 calories apple\n"
     ]
    }
   ],
   "source": [
    "for fruit in fruitList:\n",
    "    print(fruit.info())"
   ]
  },
  {
   "cell_type": "code",
   "execution_count": 31,
   "id": "d3216121",
   "metadata": {},
   "outputs": [
    {
     "name": "stdout",
     "output_type": "stream",
     "text": [
      "100 kaloria banaani\n",
      "120 kaloria omena\n"
     ]
    }
   ],
   "source": [
    "# Määritellään perusluokka Hedelmä (Fruit)\n",
    "class Hedelma:\n",
    "    def info(self):\n",
    "        pass\n",
    "\n",
    "# Määritellään Banaani-luokka (Banana), joka perii Hedelmä-luokan\n",
    "class Banaani(Hedelma):\n",
    "    def info(self):\n",
    "        return \"100 kaloria banaani\"\n",
    "\n",
    "# Määritellään Omena-luokka (Apple), joka perii Hedelmä-luokan\n",
    "class Omena(Hedelma):\n",
    "    def info(self):\n",
    "        return \"120 kaloria omena\"\n",
    "\n",
    "# Luodaan Banaani- ja Omena-oliot\n",
    "banaani = Banaani()\n",
    "omena = Omena()\n",
    "\n",
    "# Luodaan lista Hedelmä-olioista\n",
    "hedelmaLista = [banaani, omena]\n",
    "\n",
    "# Käydään läpi hedelmaLista ja kutsutaan info()-metodia jokaiselle oliolle\n",
    "for hedelma in hedelmaLista:\n",
    "    print(hedelma.info())\n"
   ]
  },
  {
   "cell_type": "code",
   "execution_count": null,
   "id": "5ab7ae01",
   "metadata": {},
   "outputs": [],
   "source": []
  }
 ],
 "metadata": {
  "kernelspec": {
   "display_name": "Python 3 (ipykernel)",
   "language": "python",
   "name": "python3"
  },
  "language_info": {
   "codemirror_mode": {
    "name": "ipython",
    "version": 3
   },
   "file_extension": ".py",
   "mimetype": "text/x-python",
   "name": "python",
   "nbconvert_exporter": "python",
   "pygments_lexer": "ipython3",
   "version": "3.9.13"
  }
 },
 "nbformat": 4,
 "nbformat_minor": 5
}
