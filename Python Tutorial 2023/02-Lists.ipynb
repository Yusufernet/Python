{
 "cells": [
  {
   "cell_type": "code",
   "execution_count": 2,
   "id": "76ac1650",
   "metadata": {},
   "outputs": [],
   "source": [
    "myString=\"Hello python\"\n"
   ]
  },
  {
   "cell_type": "code",
   "execution_count": 3,
   "id": "95ca23b8",
   "metadata": {},
   "outputs": [
    {
     "data": {
      "text/plain": [
       "['Hello', 'python']"
      ]
     },
     "execution_count": 3,
     "metadata": {},
     "output_type": "execute_result"
    }
   ],
   "source": [
    "myString.split()"
   ]
  },
  {
   "cell_type": "code",
   "execution_count": 4,
   "id": "f1cdc6c2",
   "metadata": {},
   "outputs": [
    {
     "data": {
      "text/plain": [
       "'H'"
      ]
     },
     "execution_count": 4,
     "metadata": {},
     "output_type": "execute_result"
    }
   ],
   "source": [
    "myString[0]"
   ]
  },
  {
   "cell_type": "code",
   "execution_count": 5,
   "id": "093cbe78",
   "metadata": {},
   "outputs": [],
   "source": [
    "myList = [10,20,30]"
   ]
  },
  {
   "cell_type": "code",
   "execution_count": 6,
   "id": "b6008c0c",
   "metadata": {},
   "outputs": [
    {
     "data": {
      "text/plain": [
       "list"
      ]
     },
     "execution_count": 6,
     "metadata": {},
     "output_type": "execute_result"
    }
   ],
   "source": [
    "type(myList)"
   ]
  },
  {
   "cell_type": "code",
   "execution_count": 7,
   "id": "34d700a1",
   "metadata": {},
   "outputs": [],
   "source": [
    "x=10\n",
    "y=20\n",
    "z=30"
   ]
  },
  {
   "cell_type": "code",
   "execution_count": 8,
   "id": "d0fd766f",
   "metadata": {},
   "outputs": [],
   "source": [
    "myList=[x,y,z]"
   ]
  },
  {
   "cell_type": "code",
   "execution_count": 9,
   "id": "97261efa",
   "metadata": {},
   "outputs": [
    {
     "data": {
      "text/plain": [
       "[10, 20, 30]"
      ]
     },
     "execution_count": 9,
     "metadata": {},
     "output_type": "execute_result"
    }
   ],
   "source": [
    "myList"
   ]
  },
  {
   "cell_type": "code",
   "execution_count": 10,
   "id": "67b8322b",
   "metadata": {},
   "outputs": [
    {
     "data": {
      "text/plain": [
       "[11, 20, 30]"
      ]
     },
     "execution_count": 10,
     "metadata": {},
     "output_type": "execute_result"
    }
   ],
   "source": [
    "myList[0]=11  #\n",
    "myList"
   ]
  },
  {
   "cell_type": "markdown",
   "id": "4ffe10ae",
   "metadata": {},
   "source": [
    "myList = [10, 20, 30]  # Aluksi määritellään lista nimeltä myList ja siihen lisätään arvot 10, 20 ja 30.\n",
    "\n",
    "x = 10  # x-muuttujaan asetetaan arvo 10.\n",
    "y = 20  # y-muuttujaan asetetaan arvo 20.\n",
    "z = 30  # z-muuttujaan asetetaan arvo 30.\n",
    "\n",
    "myList = [x, y, z]  # myList-lista määritellään uudelleen sisältämään x-, y- ja z-muuttujien arvot.\n",
    "Yllä olevassa koodiesimerkissä aluksi myList-listaan lisätään arvot 10, 20 ja 30. Tämän jälkeen määritellään muuttujat x, y ja z, ja niihin asetetaan vastaavat arvot 10, 20 ja 30. Sitten myList-lista määritellään uudelleen sisältämään x, y ja z -muuttujien arvot.\n",
    "\n",
    "python\n",
    "Copy code\n",
    "myList[0] = 10  # myList-listan ensimmäinen alkio (0. indeksi) muutetaan arvoksi 10.\n",
    "myList[0] = 11  # myList-listan ensimmäinen alkio (0. indeksi) muutetaan arvoksi 11.\n",
    "Seuraavilla riveillä myList-listan ensimmäinen alkio (0. indeksi) muutetaan ensin arvoksi 10 ja sitten arvoksi 11.\n",
    "\n",
    "Lopputuloksena koodiesimerkin tarkoitus on aluksi määritellä myList-lista ja lisätä siihen arvot 10, 20 ja 30. Sen jälkeen koodissa muutetaan myList-listan ensimmäisen alkion arvo ensin 10:ksi ja sitten 11:ksi."
   ]
  },
  {
   "cell_type": "code",
   "execution_count": 11,
   "id": "ea8600e0",
   "metadata": {},
   "outputs": [
    {
     "data": {
      "text/plain": [
       "3"
      ]
     },
     "execution_count": 11,
     "metadata": {},
     "output_type": "execute_result"
    }
   ],
   "source": [
    "len(myList)"
   ]
  },
  {
   "cell_type": "markdown",
   "id": "5cd189f4",
   "metadata": {},
   "source": [
    "# Listan ominaisuudet:\n",
    "\n",
    "Listat ovat järjestettyjä (ordered) tietokokoelmia, joita käytetään Python-ohjelmointikielessä.\n",
    "Listan elementit ympäröidään hakasulkeilla ([]).\n",
    "Listan elementit erotetaan pilkulla.\n",
    "Listat voivat sisältää erilaisia tietotyyppejä. Esimerkiksi numeroita, merkkijonoja, loogisia arvoja ja jopa muita listoja voi lisätä listaan.\n",
    "Listoille voi tehdä indeksointia. Pythonissa indeksointi alkaa nollasta, joten listan ensimmäinen elementti vastaa indeksiä 0.\n",
    "Yksittäiseen listan elementtiin voi päästä käsiksi käyttämällä indeksinumeroa. Esimerkiksi lista[0] antaa pääsyn listan ensimmäiseen elementtiin.\n",
    "Listat ovat muokattavissa (mutable) tietotyyppejä, joten niihin voi lisätä, poistaa tai muuttaa elementtejä.\n",
    "Listan pituuden (alkioiden määrän) voi selvittää len()-funktiolla.\n",
    "Listoissa voi käyttää viipalointia (slicing) haluttujen elementtien ottamiseksi tietyltä väliltä.\n",
    "Listoilla voi tehdä erilaisia toimenpiteitä, kuten elementtien yhdistämistä (concatenation), järjestämistä (sorting), elementtien lisäämistä tai poistamista."
   ]
  },
  {
   "cell_type": "code",
   "execution_count": 12,
   "id": "081de048",
   "metadata": {},
   "outputs": [
    {
     "data": {
      "text/plain": [
       "[10, 20, 30, 40, 50, 60]"
      ]
     },
     "execution_count": 12,
     "metadata": {},
     "output_type": "execute_result"
    }
   ],
   "source": [
    "myList=[10,20,30,40,50,60]\n",
    "myList"
   ]
  },
  {
   "cell_type": "code",
   "execution_count": 13,
   "id": "5e2b5a4a",
   "metadata": {},
   "outputs": [
    {
     "data": {
      "text/plain": [
       "[10, 20, 30, 40, 50, 60, 80]"
      ]
     },
     "execution_count": 13,
     "metadata": {},
     "output_type": "execute_result"
    }
   ],
   "source": [
    "myList.append(80)\n",
    "myList"
   ]
  },
  {
   "cell_type": "code",
   "execution_count": 14,
   "id": "1b5b20b8",
   "metadata": {},
   "outputs": [
    {
     "data": {
      "text/plain": [
       "[10, 20, 30, 40, 50, 60, 80, 10]"
      ]
     },
     "execution_count": 14,
     "metadata": {},
     "output_type": "execute_result"
    }
   ],
   "source": [
    "myList.append(10)\n",
    "myList"
   ]
  },
  {
   "cell_type": "code",
   "execution_count": 15,
   "id": "d5745eb9",
   "metadata": {},
   "outputs": [
    {
     "data": {
      "text/plain": [
       "2"
      ]
     },
     "execution_count": 15,
     "metadata": {},
     "output_type": "execute_result"
    }
   ],
   "source": [
    "myList.count(10)"
   ]
  },
  {
   "cell_type": "code",
   "execution_count": 16,
   "id": "28d28d9d",
   "metadata": {},
   "outputs": [
    {
     "data": {
      "text/plain": [
       "2"
      ]
     },
     "execution_count": 16,
     "metadata": {},
     "output_type": "execute_result"
    }
   ],
   "source": [
    "myList.index(30)"
   ]
  },
  {
   "cell_type": "code",
   "execution_count": 17,
   "id": "4d093dc7",
   "metadata": {},
   "outputs": [],
   "source": [
    "myList.insert(2,35)\n",
    "# Suoritetaan toimenpide, joka lisää arvon 35 myList-listan indeksiin 2.\n"
   ]
  },
  {
   "cell_type": "markdown",
   "id": "1a95f4d2",
   "metadata": {},
   "source": [
    "Yllä olevassa koodiesimerkissä käytetään insert()-funktiota myList-listalle tehtävän toimenpiteen yhteydessä. Tämä toimenpide lisää arvon 35 listan indeksiin 2 (kolmas sijainti).\n",
    "\n",
    "Esimerkiksi, aluksi myList-lista näyttää tältä: [10, 20, 30]. Jos lisätään arvo 35 indeksiin 2 käyttämällä insert()-funktiota, lista päivitetään seuraavasti: [10, 20, 35, 30].\n",
    "\n",
    "Tämän toimenpiteen jälkeen arvo 35 lisätään listan indeksiin 2, joka on kolmas sijainti listassa."
   ]
  },
  {
   "cell_type": "code",
   "execution_count": 22,
   "id": "6892c671",
   "metadata": {},
   "outputs": [],
   "source": [
    "myList.reverse()"
   ]
  },
  {
   "cell_type": "code",
   "execution_count": 27,
   "id": "6c2cd7c4",
   "metadata": {},
   "outputs": [],
   "source": [
    "myList.append(23)"
   ]
  },
  {
   "cell_type": "code",
   "execution_count": 25,
   "id": "477f0ea0",
   "metadata": {},
   "outputs": [
    {
     "data": {
      "text/plain": [
       "2"
      ]
     },
     "execution_count": 25,
     "metadata": {},
     "output_type": "execute_result"
    }
   ],
   "source": [
    "myList.count(10)"
   ]
  },
  {
   "cell_type": "code",
   "execution_count": 28,
   "id": "bc7f134d",
   "metadata": {},
   "outputs": [
    {
     "data": {
      "text/plain": [
       "[10, 10, 20, 30, 35, 40, 50, 60, 80, 23, 23]"
      ]
     },
     "execution_count": 28,
     "metadata": {},
     "output_type": "execute_result"
    }
   ],
   "source": [
    "myList"
   ]
  },
  {
   "cell_type": "code",
   "execution_count": 29,
   "id": "e288cf43",
   "metadata": {},
   "outputs": [],
   "source": [
    "myList.remove(23)"
   ]
  },
  {
   "cell_type": "code",
   "execution_count": 30,
   "id": "a9d48c2a",
   "metadata": {},
   "outputs": [
    {
     "data": {
      "text/plain": [
       "[10, 10, 20, 30, 35, 40, 50, 60, 80, 23]"
      ]
     },
     "execution_count": 30,
     "metadata": {},
     "output_type": "execute_result"
    }
   ],
   "source": [
    "myList"
   ]
  },
  {
   "cell_type": "code",
   "execution_count": 31,
   "id": "067f57c3",
   "metadata": {},
   "outputs": [],
   "source": [
    "myList.sort()  # Järjestää myList-listan arvot nousevaan järjestykseen.\n",
    "#Koodipätkän avulla myList-lista järjestetään siten, että sen arvot ovat nousevassa järjestyksessä.\n",
    "\n",
    "#Esimerkiksi, jos myList-lista sisältää seuraavat arvot: [30, 10, 20], suorittamalla myList.sort() -toimenpiteen, lista päivitetään seuraavasti: [10, 20, 30]. Tämä tarkoittaa, että listan arvot on järjestetty pienimmästä suurimpaan.\n"
   ]
  },
  {
   "cell_type": "code",
   "execution_count": 32,
   "id": "436750d0",
   "metadata": {},
   "outputs": [
    {
     "data": {
      "text/plain": [
       "[10, 10, 20, 23, 30, 35, 40, 50, 60, 80]"
      ]
     },
     "execution_count": 32,
     "metadata": {},
     "output_type": "execute_result"
    }
   ],
   "source": [
    "myList"
   ]
  },
  {
   "cell_type": "code",
   "execution_count": 33,
   "id": "7089f0f8",
   "metadata": {},
   "outputs": [],
   "source": [
    "list2 = [\"Apple\",\"Orrange\",\"banana\",\"pear\"]"
   ]
  },
  {
   "cell_type": "code",
   "execution_count": 37,
   "id": "deb22fc9",
   "metadata": {},
   "outputs": [
    {
     "data": {
      "text/plain": [
       "4"
      ]
     },
     "execution_count": 37,
     "metadata": {},
     "output_type": "execute_result"
    }
   ],
   "source": [
    "len(list2)"
   ]
  },
  {
   "cell_type": "code",
   "execution_count": 38,
   "id": "b053d8d7",
   "metadata": {},
   "outputs": [],
   "source": [
    "list2.append(\"Melon\")"
   ]
  },
  {
   "cell_type": "code",
   "execution_count": 39,
   "id": "252540da",
   "metadata": {},
   "outputs": [
    {
     "data": {
      "text/plain": [
       "['Apple', 'Orrange', 'banana', 'pear', 'Melon']"
      ]
     },
     "execution_count": 39,
     "metadata": {},
     "output_type": "execute_result"
    }
   ],
   "source": [
    "list2"
   ]
  },
  {
   "cell_type": "code",
   "execution_count": 45,
   "id": "36251178",
   "metadata": {},
   "outputs": [],
   "source": [
    "list2.sort()"
   ]
  },
  {
   "cell_type": "code",
   "execution_count": 44,
   "id": "ef7277a7",
   "metadata": {},
   "outputs": [
    {
     "data": {
      "text/plain": [
       "['Apple', 'Melon', 'Orrange', 'banana', 'pear']"
      ]
     },
     "execution_count": 44,
     "metadata": {},
     "output_type": "execute_result"
    }
   ],
   "source": [
    "list2"
   ]
  },
  {
   "cell_type": "code",
   "execution_count": 49,
   "id": "63d44a01",
   "metadata": {},
   "outputs": [
    {
     "name": "stdout",
     "output_type": "stream",
     "text": [
      "Enter x:10\n",
      "Enter y:20\n",
      "Enter z:30\n"
     ]
    }
   ],
   "source": [
    "x = input(\"Enter x:\")\n",
    "y = input(\"Enter y:\")\n",
    "z = input(\"Enter z:\")"
   ]
  },
  {
   "cell_type": "code",
   "execution_count": 50,
   "id": "c10d3ff2",
   "metadata": {},
   "outputs": [],
   "source": [
    "inputlist = []"
   ]
  },
  {
   "cell_type": "code",
   "execution_count": 51,
   "id": "fb42bede",
   "metadata": {},
   "outputs": [
    {
     "data": {
      "text/plain": [
       "['10', '20', '30']"
      ]
     },
     "execution_count": 51,
     "metadata": {},
     "output_type": "execute_result"
    }
   ],
   "source": [
    "inputlist.append(x)\n",
    "inputlist.append(y)\n",
    "inputlist.append(z)\n",
    "inputlist"
   ]
  },
  {
   "cell_type": "code",
   "execution_count": 52,
   "id": "27c2d2b3",
   "metadata": {},
   "outputs": [],
   "source": [
    "myInteger = 50"
   ]
  },
  {
   "cell_type": "code",
   "execution_count": 53,
   "id": "1e4b710b",
   "metadata": {},
   "outputs": [
    {
     "data": {
      "text/plain": [
       "'50'"
      ]
     },
     "execution_count": 53,
     "metadata": {},
     "output_type": "execute_result"
    }
   ],
   "source": [
    "str(myInteger)"
   ]
  },
  {
   "cell_type": "code",
   "execution_count": 55,
   "id": "644c8644",
   "metadata": {},
   "outputs": [
    {
     "data": {
      "text/plain": [
       "40"
      ]
     },
     "execution_count": 55,
     "metadata": {},
     "output_type": "execute_result"
    }
   ],
   "source": [
    "int(inputlist[1]) * 2"
   ]
  },
  {
   "cell_type": "code",
   "execution_count": 57,
   "id": "51d7b8e6",
   "metadata": {},
   "outputs": [
    {
     "data": {
      "text/plain": [
       "'20'"
      ]
     },
     "execution_count": 57,
     "metadata": {},
     "output_type": "execute_result"
    }
   ],
   "source": [
    "inputlist[1]"
   ]
  },
  {
   "cell_type": "code",
   "execution_count": 59,
   "id": "f3bfc60c",
   "metadata": {},
   "outputs": [
    {
     "data": {
      "text/plain": [
       "['10', '20', '30']"
      ]
     },
     "execution_count": 59,
     "metadata": {},
     "output_type": "execute_result"
    }
   ],
   "source": [
    "inputlist"
   ]
  },
  {
   "cell_type": "code",
   "execution_count": 66,
   "id": "4c1f83ff",
   "metadata": {},
   "outputs": [],
   "source": [
    "namelist = [\"Python\",\"JavaScript\", \"Github\"]"
   ]
  },
  {
   "cell_type": "code",
   "execution_count": 68,
   "id": "ebd16af6",
   "metadata": {},
   "outputs": [],
   "source": [
    "mixedlist=[\"Python\", 100,3.14]"
   ]
  },
  {
   "cell_type": "code",
   "execution_count": 69,
   "id": "d6a9537f",
   "metadata": {},
   "outputs": [
    {
     "data": {
      "text/plain": [
       "list"
      ]
     },
     "execution_count": 69,
     "metadata": {},
     "output_type": "execute_result"
    }
   ],
   "source": [
    "type(mixedlist)"
   ]
  },
  {
   "cell_type": "code",
   "execution_count": 70,
   "id": "a9c4dbbc",
   "metadata": {},
   "outputs": [],
   "source": [
    "list1 = [10,20,30]\n",
    "list2 = [40,50,60]"
   ]
  },
  {
   "cell_type": "code",
   "execution_count": 72,
   "id": "fc626ec8",
   "metadata": {},
   "outputs": [
    {
     "data": {
      "text/plain": [
       "[10, 20, 30, 40, 50, 60]"
      ]
     },
     "execution_count": 72,
     "metadata": {},
     "output_type": "execute_result"
    }
   ],
   "source": [
    "list1 + list2"
   ]
  },
  {
   "cell_type": "code",
   "execution_count": 60,
   "id": "4e81274e",
   "metadata": {},
   "outputs": [
    {
     "data": {
      "text/plain": [
       "40"
      ]
     },
     "execution_count": 60,
     "metadata": {},
     "output_type": "execute_result"
    }
   ],
   "source": [
    "int(inputlist[1]) *2"
   ]
  },
  {
   "cell_type": "code",
   "execution_count": 73,
   "id": "c0af2a0d",
   "metadata": {},
   "outputs": [
    {
     "data": {
      "text/plain": [
       "[10, 20, 30, 10, 20, 30]"
      ]
     },
     "execution_count": 73,
     "metadata": {},
     "output_type": "execute_result"
    }
   ],
   "source": [
    "list1 *2"
   ]
  },
  {
   "cell_type": "code",
   "execution_count": 62,
   "id": "ec6584c5",
   "metadata": {},
   "outputs": [
    {
     "data": {
      "text/plain": [
       "list"
      ]
     },
     "execution_count": 62,
     "metadata": {},
     "output_type": "execute_result"
    }
   ],
   "source": [
    "type(inputlist)"
   ]
  },
  {
   "cell_type": "code",
   "execution_count": 63,
   "id": "ce7604d9",
   "metadata": {},
   "outputs": [],
   "source": [
    "#list in list\n",
    "#nestedList"
   ]
  },
  {
   "cell_type": "code",
   "execution_count": 64,
   "id": "5122a7d9",
   "metadata": {},
   "outputs": [],
   "source": [
    "mynestedlist =[10,20,3.14,\"Python\",[1,2,3]]"
   ]
  },
  {
   "cell_type": "code",
   "execution_count": 65,
   "id": "2fbedf13",
   "metadata": {},
   "outputs": [
    {
     "data": {
      "text/plain": [
       "[10, 20, 3.14, 'Python', [1, 2, 3]]"
      ]
     },
     "execution_count": 65,
     "metadata": {},
     "output_type": "execute_result"
    }
   ],
   "source": [
    "mynestedlist"
   ]
  },
  {
   "cell_type": "code",
   "execution_count": 75,
   "id": "1288764f",
   "metadata": {},
   "outputs": [
    {
     "data": {
      "text/plain": [
       "20"
      ]
     },
     "execution_count": 75,
     "metadata": {},
     "output_type": "execute_result"
    }
   ],
   "source": [
    "mynestedlist[1]"
   ]
  },
  {
   "cell_type": "code",
   "execution_count": 76,
   "id": "d9e1b9b6",
   "metadata": {},
   "outputs": [
    {
     "data": {
      "text/plain": [
       "3.14"
      ]
     },
     "execution_count": 76,
     "metadata": {},
     "output_type": "execute_result"
    }
   ],
   "source": [
    "mynestedlist[2]"
   ]
  },
  {
   "cell_type": "code",
   "execution_count": 78,
   "id": "14f9d760",
   "metadata": {},
   "outputs": [
    {
     "data": {
      "text/plain": [
       "[1, 2, 3]"
      ]
     },
     "execution_count": 78,
     "metadata": {},
     "output_type": "execute_result"
    }
   ],
   "source": [
    "mynestedlist[4]"
   ]
  },
  {
   "cell_type": "code",
   "execution_count": 79,
   "id": "93b39124",
   "metadata": {},
   "outputs": [],
   "source": [
    "small_list=mynestedlist[4]"
   ]
  },
  {
   "cell_type": "code",
   "execution_count": 80,
   "id": "e8ca7582",
   "metadata": {},
   "outputs": [
    {
     "data": {
      "text/plain": [
       "[1, 2, 3]"
      ]
     },
     "execution_count": 80,
     "metadata": {},
     "output_type": "execute_result"
    }
   ],
   "source": [
    "small_list"
   ]
  },
  {
   "cell_type": "code",
   "execution_count": 83,
   "id": "bd3bbd5b",
   "metadata": {},
   "outputs": [
    {
     "data": {
      "text/plain": [
       "[1, 2, 3]"
      ]
     },
     "execution_count": 83,
     "metadata": {},
     "output_type": "execute_result"
    }
   ],
   "source": [
    "mynestedlist[4]"
   ]
  },
  {
   "cell_type": "code",
   "execution_count": 84,
   "id": "30f9e0c0",
   "metadata": {},
   "outputs": [
    {
     "data": {
      "text/plain": [
       "2"
      ]
     },
     "execution_count": 84,
     "metadata": {},
     "output_type": "execute_result"
    }
   ],
   "source": [
    "#printing the last list in a list\n",
    "mynestedlist[4][1]"
   ]
  },
  {
   "cell_type": "code",
   "execution_count": 85,
   "id": "6b1db622",
   "metadata": {},
   "outputs": [],
   "source": [
    "lastlist=[\"a\",\"b\",[\"c\",\"d\",\"e\"],\"f\",\"g\"]"
   ]
  },
  {
   "cell_type": "code",
   "execution_count": 86,
   "id": "55fe382d",
   "metadata": {},
   "outputs": [
    {
     "data": {
      "text/plain": [
       "5"
      ]
     },
     "execution_count": 86,
     "metadata": {},
     "output_type": "execute_result"
    }
   ],
   "source": [
    "len(lastlist)"
   ]
  },
  {
   "cell_type": "code",
   "execution_count": 87,
   "id": "9db4aa53",
   "metadata": {},
   "outputs": [
    {
     "data": {
      "text/plain": [
       "['a', 'b', ['c', 'd', 'e'], 'f', 'g']"
      ]
     },
     "execution_count": 87,
     "metadata": {},
     "output_type": "execute_result"
    }
   ],
   "source": [
    "lastlist"
   ]
  },
  {
   "cell_type": "code",
   "execution_count": 91,
   "id": "41c29e95",
   "metadata": {},
   "outputs": [],
   "source": [
    "#to change the variable in a list\n",
    "lastlist[0] = \"A\"\n"
   ]
  },
  {
   "cell_type": "code",
   "execution_count": 92,
   "id": "a13dfcc0",
   "metadata": {},
   "outputs": [
    {
     "data": {
      "text/plain": [
       "['A', 'b', ['c', 'd', 'e'], 'f', 'g']"
      ]
     },
     "execution_count": 92,
     "metadata": {},
     "output_type": "execute_result"
    }
   ],
   "source": [
    "lastlist"
   ]
  },
  {
   "cell_type": "code",
   "execution_count": 93,
   "id": "9f7fca01",
   "metadata": {},
   "outputs": [],
   "source": [
    "slicelist=[10,20,30,40,50,60,70]"
   ]
  },
  {
   "cell_type": "code",
   "execution_count": 94,
   "id": "dcac575e",
   "metadata": {},
   "outputs": [],
   "source": [
    "#how to change after first 2 index\n",
    "slicelist[2::]=90,99,98,97"
   ]
  },
  {
   "cell_type": "code",
   "execution_count": 96,
   "id": "0fc588b1",
   "metadata": {},
   "outputs": [
    {
     "data": {
      "text/plain": [
       "[10, 90, 98]"
      ]
     },
     "execution_count": 96,
     "metadata": {},
     "output_type": "execute_result"
    }
   ],
   "source": [
    "slicelist[::2]"
   ]
  },
  {
   "cell_type": "code",
   "execution_count": null,
   "id": "4b090f8e",
   "metadata": {},
   "outputs": [],
   "source": []
  }
 ],
 "metadata": {
  "kernelspec": {
   "display_name": "Python 3 (ipykernel)",
   "language": "python",
   "name": "python3"
  },
  "language_info": {
   "codemirror_mode": {
    "name": "ipython",
    "version": 3
   },
   "file_extension": ".py",
   "mimetype": "text/x-python",
   "name": "python",
   "nbconvert_exporter": "python",
   "pygments_lexer": "ipython3",
   "version": "3.9.13"
  }
 },
 "nbformat": 4,
 "nbformat_minor": 5
}
