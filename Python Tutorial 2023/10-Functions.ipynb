{
 "cells": [
  {
   "cell_type": "code",
   "execution_count": 1,
   "id": "058b168d",
   "metadata": {},
   "outputs": [],
   "source": [
    "#Method vs function"
   ]
  },
  {
   "cell_type": "code",
   "execution_count": 2,
   "id": "71430d87",
   "metadata": {},
   "outputs": [],
   "source": [
    "my_name = \"Python\""
   ]
  },
  {
   "cell_type": "code",
   "execution_count": 3,
   "id": "31d55bd3",
   "metadata": {},
   "outputs": [
    {
     "data": {
      "text/plain": [
       "'PYTHON'"
      ]
     },
     "execution_count": 3,
     "metadata": {},
     "output_type": "execute_result"
    }
   ],
   "source": [
    "my_name.upper()"
   ]
  },
  {
   "cell_type": "code",
   "execution_count": 4,
   "id": "ac95ee67",
   "metadata": {},
   "outputs": [],
   "source": [
    "#Functions\n",
    "#def = define"
   ]
  },
  {
   "cell_type": "code",
   "execution_count": 6,
   "id": "bea0c00e",
   "metadata": {},
   "outputs": [],
   "source": [
    "def hello_python():\n",
    "    print(\"hello\")\n",
    "    print(\"python\")"
   ]
  },
  {
   "cell_type": "code",
   "execution_count": 8,
   "id": "4736f375",
   "metadata": {},
   "outputs": [
    {
     "name": "stdout",
     "output_type": "stream",
     "text": [
      "hello\n",
      "python\n"
     ]
    }
   ],
   "source": [
    "hello_python()"
   ]
  },
  {
   "cell_type": "markdown",
   "id": "7e456517",
   "metadata": {},
   "source": [
    "Pythonissa \"def\" -avainsanaa käytetään funktion määrittämiseen. Funktiot ovat uudelleenkäytettäviä koodilohkoja, jotka suorittavat tiettyjä tehtäviä. Ne auttavat koodin järjestämisessä, lukemisen helpottamisessa ja toistojen vähentämisessä.\n",
    "\n",
    "Funktion määrittämiseksi Pythonissa aloitetaan \"def\" -avainsanalla, jota seuraa funktion nimi ja sulkeet (). Tarvittavat parametrit tai argumentit sijoitetaan näiden sulkeiden sisään. Funktion määritelmää seuraa kaksoispiste :.\n",
    "\n",
    "Tässä on yleinen syntaksi funktion määrittämiseen Pythonissa:\n",
    "\n",
    "def funktion_nimi(parametri1, parametri2, ...):\n",
    "#Funktion runko\n",
    "#Suoritettava koodi\n",
    "#Valinnaisesti palautuslause\n",
    "Funktion rungossa kirjoitat koodin, joka määrittelee funktion toiminnallisuuden. Tähän voi kuulua mikä tahansa kelvollinen Python-koodi, kuten muuttujien määrittelyjä, ehtolauseita, silmukoita ja muita funktiokutsuja.\n",
    "\n",
    "Valinnaisesti funktiolla voi olla palautuslause, joka määrittelee arvon tai arvot, jotka palautetaan, kun funktiota kutsutaan. Jos palautuslauseita ei anneta, funktio palauttaa oletusarvoisesti None-arvon.\n",
    "\n",
    "Funktiota käytetään yksinkertaisesti kutsumalla sitä sen nimellä, jota seuraa sulkeet, ja välittämällä tarvittavat argumentit. Funktio suoritetaan, ja jos siitä palautuu arvo, se voidaan asettaa muuttujaan tai käyttää halutulla tavalla."
   ]
  },
  {
   "cell_type": "code",
   "execution_count": 10,
   "id": "1a18494e",
   "metadata": {},
   "outputs": [],
   "source": [
    "def hello_name(name):\n",
    "    print(\"hello\")\n",
    "    print(name)"
   ]
  },
  {
   "cell_type": "code",
   "execution_count": 11,
   "id": "7f65d1d3",
   "metadata": {},
   "outputs": [
    {
     "name": "stdout",
     "output_type": "stream",
     "text": [
      "hello\n",
      "Python\n"
     ]
    }
   ],
   "source": [
    "hello_name(\"Python\")"
   ]
  },
  {
   "cell_type": "code",
   "execution_count": 12,
   "id": "f41f240c",
   "metadata": {},
   "outputs": [
    {
     "name": "stdout",
     "output_type": "stream",
     "text": [
      "hello\n",
      "JavaScript\n"
     ]
    }
   ],
   "source": [
    "hello_name(\"JavaScript\")"
   ]
  },
  {
   "cell_type": "code",
   "execution_count": 14,
   "id": "7f1634ef",
   "metadata": {},
   "outputs": [],
   "source": [
    "def sum_example(num1, num2):\n",
    "    print(num1+num2)"
   ]
  },
  {
   "cell_type": "code",
   "execution_count": 15,
   "id": "98153ba7",
   "metadata": {},
   "outputs": [
    {
     "name": "stdout",
     "output_type": "stream",
     "text": [
      "15\n"
     ]
    }
   ],
   "source": [
    "sum_example(5,10)"
   ]
  },
  {
   "cell_type": "code",
   "execution_count": 16,
   "id": "a16bf90d",
   "metadata": {},
   "outputs": [],
   "source": [
    "#return"
   ]
  },
  {
   "cell_type": "code",
   "execution_count": 17,
   "id": "26a5390e",
   "metadata": {},
   "outputs": [],
   "source": [
    "def summation(num1,num2,num3):\n",
    "    print(num1+num2+num3)"
   ]
  },
  {
   "cell_type": "code",
   "execution_count": 18,
   "id": "d75bcf05",
   "metadata": {},
   "outputs": [
    {
     "name": "stdout",
     "output_type": "stream",
     "text": [
      "20\n"
     ]
    }
   ],
   "source": [
    "summation(10,2,8)"
   ]
  },
  {
   "cell_type": "code",
   "execution_count": 19,
   "id": "050bc67f",
   "metadata": {},
   "outputs": [],
   "source": [
    " def control_string(s):\n",
    "        if s[0] == \"P\":\n",
    "            print(\"P\")"
   ]
  },
  {
   "cell_type": "code",
   "execution_count": 20,
   "id": "48215455",
   "metadata": {},
   "outputs": [
    {
     "name": "stdout",
     "output_type": "stream",
     "text": [
      "P\n"
     ]
    }
   ],
   "source": [
    "control_string(\"Python\")"
   ]
  },
  {
   "cell_type": "code",
   "execution_count": 21,
   "id": "364713cb",
   "metadata": {},
   "outputs": [],
   "source": [
    "def args_sum(*args):\n",
    "    return sum(args)"
   ]
  },
  {
   "cell_type": "markdown",
   "id": "c8265517",
   "metadata": {},
   "source": [
    "Tämä koodi määrittelee funktion nimeltä args_sum, joka ottaa vastaan mielivaltaisen määrän argumentteja. Tähden (*) edessä oleva args ilmaisee, että funktio vastaanottaa muuttuvan määrän argumentteja ja tallentaa ne tupleen nimeltä args.\n",
    "\n",
    "Funktio käyttää sitten sum()-funktiota laskemaan args-tuplen kaikkien arvojen summan. Lopuksi summa palautetaan funktion tulosteena."
   ]
  },
  {
   "cell_type": "code",
   "execution_count": 22,
   "id": "8f45311e",
   "metadata": {},
   "outputs": [
    {
     "data": {
      "text/plain": [
       "1064"
      ]
     },
     "execution_count": 22,
     "metadata": {},
     "output_type": "execute_result"
    }
   ],
   "source": [
    "args_sum(20,30,40,90,872,12)"
   ]
  },
  {
   "cell_type": "markdown",
   "id": "8668167b",
   "metadata": {},
   "source": [
    "Tässä rivillä funktio args_sum kutsutaan argumenteilla 20, 30, 40, 90, 872, 12. Nämä arvot välitetään erillisinä argumentteina, ja funktio laskee niiden summan.\n",
    "\n",
    "Joten tämän koodin tuloste olisi 1064, mikä on kaikkien args_sum-funktiolle välitettyjen arvojen summa."
   ]
  },
  {
   "cell_type": "code",
   "execution_count": 25,
   "id": "ba011031",
   "metadata": {},
   "outputs": [],
   "source": [
    "def kwargs_example(**kwargs):\n",
    "    print(kwargs)"
   ]
  },
  {
   "cell_type": "markdown",
   "id": "5a71293f",
   "metadata": {},
   "source": [
    "Tämä koodi määrittelee kwargs_example nimisen funktion. Tämä funktio hyväksyy muuttuvan määrän avain-arvo -pareja. Kaksi tähteä (**) kwargs ilmaisee, että funktio vastaanottaa nimettömän sanakirjan (dictionary), joka sisältää nämä avain-arvo -parit.\n",
    "\n",
    "Funktio tulostaa napattujen avain-arvo -parien sisällön näytölle (print(kwargs))."
   ]
  },
  {
   "cell_type": "code",
   "execution_count": 33,
   "id": "646583f7",
   "metadata": {},
   "outputs": [
    {
     "name": "stdout",
     "output_type": "stream",
     "text": [
      "Apleee\n"
     ]
    }
   ],
   "source": [
    "kwargs_example(apple =100, banana= 150,orange =250)"
   ]
  },
  {
   "cell_type": "markdown",
   "id": "c0e033a7",
   "metadata": {},
   "source": [
    "Tässä rivillä kwargs_example funktiota kutsutaan avain-arvo -pareilla apple=100, banana=150, orange=250. Nämä arvot välitetään erillisinä argumentteina ja funktio napataan ne."
   ]
  },
  {
   "cell_type": "code",
   "execution_count": 34,
   "id": "325bc2bf",
   "metadata": {},
   "outputs": [],
   "source": [
    "def kwargs_example(**kwargs):\n",
    "    if \"apple\" in kwargs:\n",
    "        print(\"Apleee\")\n",
    "    else:\n",
    "        print(\"Sorry\")"
   ]
  },
  {
   "cell_type": "code",
   "execution_count": 37,
   "id": "f2562a50",
   "metadata": {},
   "outputs": [
    {
     "name": "stdout",
     "output_type": "stream",
     "text": [
      "Sorry\n"
     ]
    }
   ],
   "source": [
    "kwargs_example(banana= 150,orange =250)"
   ]
  },
  {
   "cell_type": "code",
   "execution_count": null,
   "id": "eac4b93d",
   "metadata": {},
   "outputs": [],
   "source": []
  }
 ],
 "metadata": {
  "kernelspec": {
   "display_name": "Python 3 (ipykernel)",
   "language": "python",
   "name": "python3"
  },
  "language_info": {
   "codemirror_mode": {
    "name": "ipython",
    "version": 3
   },
   "file_extension": ".py",
   "mimetype": "text/x-python",
   "name": "python",
   "nbconvert_exporter": "python",
   "pygments_lexer": "ipython3",
   "version": "3.9.13"
  }
 },
 "nbformat": 4,
 "nbformat_minor": 5
}
