{
 "cells": [
  {
   "cell_type": "code",
   "execution_count": null,
   "id": "072edf79",
   "metadata": {},
   "outputs": [],
   "source": [
    "Anladım, sadece kod içindeki örnekleri dokunmayacağım ve açıklamaları Fince'ye çevireceğim. İşte Fince'ye çevrilen açıklamalar:\n",
    "\n",
    "Tietotyypit:\n",
    "\n",
    "Numerot: Pythonissa \"numerot\" tietotyyppi sisältää kokonaisluvut (täysluvut) ja liukuluvut (desimaaliluvut).\n",
    "\n",
    "Esimerkki:\n",
    "\n",
    "python\n",
    "Kopioi koodi\n",
    "# Kokonaisluvut\n",
    "x = 10\n",
    "y = -5\n",
    "z = 0\n",
    "\n",
    "# Liukuluvut\n",
    "a = 3.14\n",
    "b = -2.5\n",
    "c = 0.0\n",
    "Merkkijono (String): Merkkijono on merkkien jono, joka on suljettu lainausmerkkien (yksittäisten tai kahdenkertaisten) sisään.\n",
    "\n",
    "Esimerkki:\n",
    "\n",
    "python\n",
    "Kopioi koodi\n",
    "name = \"John Doe\"\n",
    "message = 'Hello, world!'\n",
    "Merkkijono-menetelmät: Python tarjoaa erilaisia ​​metodeja merkkijonojen manipulointiin, kuten pituuden saaminen, muuntaminen isoihin tai pieniin kirjaimiin, osamerkkijonojen korvaaminen ja merkkijonon jakaminen listaksi.\n",
    "\n",
    "Esimerkki:\n",
    "\n",
    "python\n",
    "Kopioi koodi\n",
    "text = \"Hello, World!\"\n",
    "\n",
    "# Merkkijonon pituus\n",
    "length = len(text)\n",
    "\n",
    "# Muunna isoihin kirjaimiin\n",
    "uppercase = text.upper()\n",
    "\n",
    "# Muunna pieniin kirjaimiin\n",
    "lowercase = text.lower()\n",
    "\n",
    "# Korvaa osamerkkijono\n",
    "replaced = text.replace(\"World\", \"Python\")\n",
    "\n",
    "# Jaa merkkijono sanalistaksi\n",
    "words = text.split(\",\")\n",
    "Muuttujat:\n",
    "\n",
    "Muuttujat ovat nimiä, joita käytetään arvojen tallentamiseen tai viittaamiseen tiettyihin arvoihin Pythonissa.\n",
    "\n",
    "Muuttujan määrittämiseksi valitse kelvollinen nimi ja anna sille arvo käyttäen sijoitusoperaattoria \"=\".\n",
    "\n",
    "Python määrittää automaattisesti muuttujan tietotyypin arvon määrittämisen aikana.\n",
    "\n",
    "Esimerkki:\n",
    "\n",
    "python\n",
    "Kopioi koodi\n",
    "# Kokonaislukumuuttuja\n",
    "age = 25\n",
    "\n",
    "# Merkkijonomuuttuja\n",
    "name = \"John\"\n",
    "\n",
    "# Liukulukumuuttuja\n",
    "pi = 3.14\n",
    "Muuttujien käyttö:\n",
    "\n",
    "Muuttujaa voidaan käyttää viittaamalla sen nimeen saadaksesi sen arvon.\n",
    "\n",
    "Muuttujia voidaan käyttää lausekkeissa tai sijoittaa toisiin muuttujiin.\n",
    "\n",
    "Esimerkki:\n",
    "\n",
    "python\n",
    "Kopioi koodi\n",
    "# Muuttujien käyttö\n",
    "x = 5\n",
    "y = x + 3\n",
    "print(y)  # Tuloste: 8\n",
    "\n",
    "# Muuttujan sijoitus\n",
    "a = 10\n",
    "b = a\n",
    "print(b)  # Tuloste: 10\n",
    "Muuttujatyypit:\n",
    "\n",
    "Python määrittää"
   ]
  },
  {
   "cell_type": "code",
   "execution_count": null,
   "id": "d0ab0908",
   "metadata": {},
   "outputs": [],
   "source": [
    "Muuttujan pituuden laskemiseen. pituus\n",
    "Uusille riveille tulostamiseen\n",
    "\\n --> uusi rivi\n",
    "Kirjaimen tulostamiseen indeksirivinumeron perusteella\n",
    "Ohjelmoinnissa indeksi alkaa nollasta\n",
    "Viimeisen kirjaimen tulostamiseen\n",
    "Leikkaaminen, aloitusindeksi, lopetusindeksi, askelkoko"
   ]
  },
  {
   "cell_type": "code",
   "execution_count": 28,
   "id": "38611b49",
   "metadata": {},
   "outputs": [
    {
     "data": {
      "text/plain": [
       "'Yusuf'"
      ]
     },
     "execution_count": 28,
     "metadata": {},
     "output_type": "execute_result"
    }
   ],
   "source": [
    "#String Methods\n",
    "name = \"Yusuf\"\n",
    "\n",
    "name.capitalize()\n"
   ]
  },
  {
   "cell_type": "code",
   "execution_count": 35,
   "id": "c9d04956",
   "metadata": {},
   "outputs": [
    {
     "data": {
      "text/plain": [
       "2"
      ]
     },
     "execution_count": 35,
     "metadata": {},
     "output_type": "execute_result"
    }
   ],
   "source": [
    "name.find(\"s\")"
   ]
  },
  {
   "cell_type": "code",
   "execution_count": 37,
   "id": "1dfe1d50",
   "metadata": {},
   "outputs": [
    {
     "data": {
      "text/plain": [
       "'YUSUF'"
      ]
     },
     "execution_count": 37,
     "metadata": {},
     "output_type": "execute_result"
    }
   ],
   "source": [
    "name.upper() "
   ]
  },
  {
   "cell_type": "code",
   "execution_count": 40,
   "id": "1463b93e",
   "metadata": {},
   "outputs": [
    {
     "data": {
      "text/plain": [
       "'YUSUF'"
      ]
     },
     "execution_count": 40,
     "metadata": {},
     "output_type": "execute_result"
    }
   ],
   "source": [
    "nameUpper=name.upper()\n",
    "nameUpper"
   ]
  },
  {
   "cell_type": "code",
   "execution_count": 41,
   "id": "2b3fe391",
   "metadata": {},
   "outputs": [
    {
     "data": {
      "text/plain": [
       "5"
      ]
     },
     "execution_count": 41,
     "metadata": {},
     "output_type": "execute_result"
    }
   ],
   "source": [
    "#To count how long is the variable. the length\n",
    "len(name)"
   ]
  },
  {
   "cell_type": "code",
   "execution_count": 43,
   "id": "7b7a62a6",
   "metadata": {},
   "outputs": [
    {
     "data": {
      "text/plain": [
       "20"
      ]
     },
     "execution_count": 43,
     "metadata": {},
     "output_type": "execute_result"
    }
   ],
   "source": [
    "learn=\"I am learning Python\"\n",
    "len(learn)"
   ]
  },
  {
   "cell_type": "code",
   "execution_count": 46,
   "id": "5ffef1fa",
   "metadata": {},
   "outputs": [
    {
     "name": "stdout",
     "output_type": "stream",
     "text": [
      "I am \n",
      "learning \n",
      "Python  \n"
     ]
    }
   ],
   "source": [
    "print(\"I am \\nlearning \\nPython  \")\n",
    "#to print in new lines\n",
    "#\\n --> new line"
   ]
  },
  {
   "cell_type": "code",
   "execution_count": 56,
   "id": "ec106d89",
   "metadata": {},
   "outputs": [],
   "source": [
    "myString = \"Python Programming is Great\""
   ]
  },
  {
   "cell_type": "code",
   "execution_count": 58,
   "id": "98824aec",
   "metadata": {},
   "outputs": [
    {
     "data": {
      "text/plain": [
       "'r'"
      ]
     },
     "execution_count": 58,
     "metadata": {},
     "output_type": "execute_result"
    }
   ],
   "source": [
    "#to print the letter from the index line number\n",
    "#in programming index starts with 0\n",
    "myString[11]"
   ]
  },
  {
   "cell_type": "code",
   "execution_count": 57,
   "id": "e354e9c2",
   "metadata": {},
   "outputs": [
    {
     "data": {
      "text/plain": [
       "'t'"
      ]
     },
     "execution_count": 57,
     "metadata": {},
     "output_type": "execute_result"
    }
   ],
   "source": [
    "#to print the last letter\n",
    "myString[-1]"
   ]
  },
  {
   "cell_type": "markdown",
   "id": "5990a177",
   "metadata": {},
   "source": [
    "#  Slicing"
   ]
  },
  {
   "cell_type": "code",
   "execution_count": 65,
   "id": "efaf2b23",
   "metadata": {},
   "outputs": [],
   "source": [
    "barcode = \"ABCDE123456789\""
   ]
  },
  {
   "cell_type": "code",
   "execution_count": 60,
   "id": "47a8f4e4",
   "metadata": {},
   "outputs": [],
   "source": [
    "#slicing,starting index,stopping index,stepping size"
   ]
  },
  {
   "cell_type": "code",
   "execution_count": null,
   "id": "0dc0293c",
   "metadata": {},
   "outputs": [],
   "source": [
    "# barcode[#starting index : #stopping index :#stepping size]"
   ]
  },
  {
   "cell_type": "code",
   "execution_count": 66,
   "id": "ce37157e",
   "metadata": {},
   "outputs": [
    {
     "data": {
      "text/plain": [
       "'ACE'"
      ]
     },
     "execution_count": 66,
     "metadata": {},
     "output_type": "execute_result"
    }
   ],
   "source": [
    "barcode [0:6:2]"
   ]
  },
  {
   "cell_type": "code",
   "execution_count": 71,
   "id": "18668885",
   "metadata": {},
   "outputs": [
    {
     "data": {
      "text/plain": [
       "'ACE246'"
      ]
     },
     "execution_count": 71,
     "metadata": {},
     "output_type": "execute_result"
    }
   ],
   "source": [
    "barcode [0:11:2]"
   ]
  },
  {
   "cell_type": "markdown",
   "id": "ec9b132d",
   "metadata": {},
   "source": [
    "Koodissa käytetään muuttujaa barcode ja käytetään palaamismerkintää [0:11:2]. Tämä merkintä koostuu kolmesta osasta: aloitusindeksi (0), lopetusindeksi (11) ja askelarvo (2).\n",
    "\n",
    "Aloitusindeksi määrittää, mistä kohtaa palan tulee alkaa, ja tässä tapauksessa se on barcode-muuttujan ensimmäinen merkki. Lopetusindeksi määrittelee kohdan, johon asti pala otetaan, mutta ei itse sitä sijaintia. Joten pala sisältää merkkejä aina barcode-muuttujan kymmenenteen merkkiin saakka.\n",
    "\n",
    "Askelarvo määrittää valittujen merkkien välin. Tässä tapauksessa askelarvo on 2, joten palassa on mukana joka toinen merkki.\n",
    "\n",
    "Tämän vuoksi koodi palauttaa palan, joka koostuu joka toisesta merkistä ensimmäisestä merkistä kymmenenteen merkkiin barcode-muuttujassa.\n"
   ]
  },
  {
   "cell_type": "code",
   "execution_count": null,
   "id": "7e71b004",
   "metadata": {},
   "outputs": [],
   "source": []
  }
 ],
 "metadata": {
  "kernelspec": {
   "display_name": "Python 3 (ipykernel)",
   "language": "python",
   "name": "python3"
  },
  "language_info": {
   "codemirror_mode": {
    "name": "ipython",
    "version": 3
   },
   "file_extension": ".py",
   "mimetype": "text/x-python",
   "name": "python",
   "nbconvert_exporter": "python",
   "pygments_lexer": "ipython3",
   "version": "3.9.13"
  }
 },
 "nbformat": 4,
 "nbformat_minor": 5
}
