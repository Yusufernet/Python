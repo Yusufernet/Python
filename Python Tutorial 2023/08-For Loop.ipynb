{
 "cells": [
  {
   "cell_type": "code",
   "execution_count": 1,
   "id": "9d11e042",
   "metadata": {},
   "outputs": [],
   "source": [
    "# for loop , while loop"
   ]
  },
  {
   "cell_type": "code",
   "execution_count": null,
   "id": "19c5a334",
   "metadata": {},
   "outputs": [],
   "source": [
    "While-silmukat ovat ohjausrakenteita Pythonissa, \n",
    "jotka mahdollistavat tietyn koodilohkon toistamisen \n",
    "niin kauan kuin tietyt ehdot ovat voimassa. \n",
    "Pythonissa while-silmukan perussyntaksi on seuraava:\n",
    "\n",
    "\n",
    "\n",
    "while ehto:\n",
    "    # suoritettava koodi\n",
    "    \n",
    "Ehto on lauseke, joka arvioi joko todeksi \n",
    "(True) tai epätodeksi (False).\n",
    "Silmukan sisällä oleva koodi suoritetaan \n",
    "toistuvasti niin kauan kuin ehto on tosi. \n",
    "Kun ehto muuttuu epätodeksi, silmukka päättyy, \n",
    "ja ohjelma jatkaa seuraavaan silmukasta seuraavaan koodiriviin."
   ]
  },
  {
   "cell_type": "code",
   "execution_count": 2,
   "id": "9218c3a3",
   "metadata": {},
   "outputs": [
    {
     "ename": "SyntaxError",
     "evalue": "invalid syntax (4077740033.py, line 1)",
     "output_type": "error",
     "traceback": [
      "\u001b[0;36m  File \u001b[0;32m\"/var/folders/bg/d0tgpy4n4zjby5fw1w0nmjs40000gn/T/ipykernel_57237/4077740033.py\"\u001b[0;36m, line \u001b[0;32m1\u001b[0m\n\u001b[0;31m    For-silmukka on ohjausrakenne Pythonissa, joka toistaa koodilohkoa\u001b[0m\n\u001b[0m                 ^\u001b[0m\n\u001b[0;31mSyntaxError\u001b[0m\u001b[0;31m:\u001b[0m invalid syntax\n"
     ]
    }
   ],
   "source": [
    "For-silmukka on ohjausrakenne Pythonissa, joka toistaa koodilohkoa \n",
    "tietyn kokoelman tai tietyn alueen yli. For-silmukka käy läpi jokaisen\n",
    "kokoelman tai alueen alkion peräkkäin ja suorittaa annetun \n",
    "koodin näille alkioille. Pythonin for-silmukan\n",
    "perussyntaxi on seuraava:\n",
    "\n",
    "    \n",
    "hedelmät = [\"omena\", \"päärynä\", \"banaani\"]\n",
    "for hedelmä in hedelmät:\n",
    "    print(hedelmä)\n",
    "\n",
    "    \n",
    "    \n",
    "Tässä esimerkissä määritellään lista nimeltä \"hedelmät\".\n",
    "For-silmukka suorittaa annetun koodin jokaiselle \"hedelmä\" \n",
    "-alkiolle ja tulostaa hedelmän nimen. Silmukka jatkaa kokoelman\n",
    "jokaisen alkion käsittelyä peräkkäin.\n",
    "\n",
    "Yhteenvetona for-silmukka on ohjausrakenne Pythonissa,\n",
    "joka toistaa koodilohkoa kokoelman tai alueen yli.\n",
    "Se käy läpi jokaisen alkion peräkkäin ja suorittaa \n",
    "annetun koodin kullekin alkion."
   ]
  },
  {
   "cell_type": "markdown",
   "id": "d55c45c6",
   "metadata": {},
   "source": [
    "#Question :How can we multiply each number in a list by 5 after dividing it by 2 using a for loop?\n",
    "\n",
    "Saavuttaaksesi tämän käyttäen for-silmukkaa, voit käydä läpi jokaisen numeron listassa, jakaa sen kahdella ja kertoa viidellä. Tässä on esimerkki Python-koodista:"
   ]
  },
  {
   "cell_type": "code",
   "execution_count": 3,
   "id": "814d052e",
   "metadata": {},
   "outputs": [],
   "source": [
    "my_list = [10,20,30,40,50,60,70]\n",
    "\n"
   ]
  },
  {
   "cell_type": "code",
   "execution_count": 13,
   "id": "af2cf6bb",
   "metadata": {},
   "outputs": [
    {
     "name": "stdout",
     "output_type": "stream",
     "text": [
      "4\n",
      "8\n",
      "12\n",
      "16\n",
      "20\n",
      "24\n",
      "28\n"
     ]
    }
   ],
   "source": [
    "for number in my_list:\n",
    "    result = number / 5 * 2\n",
    "    print (int(result))"
   ]
  },
  {
   "cell_type": "markdown",
   "id": "6fd7b0c6",
   "metadata": {},
   "source": [
    "Kuinka voimme tulostaa luvut, jotka ovat jaollisia neljällä?"
   ]
  },
  {
   "cell_type": "code",
   "execution_count": 35,
   "id": "f7853dbf",
   "metadata": {},
   "outputs": [
    {
     "name": "stdout",
     "output_type": "stream",
     "text": [
      "20\n",
      "40\n",
      "60\n"
     ]
    }
   ],
   "source": [
    "\n",
    "for number in my_list:\n",
    "    if number % 4 == 0:\n",
    "        print(number)\n",
    "        \n",
    "    "
   ]
  },
  {
   "cell_type": "markdown",
   "id": "84be6860",
   "metadata": {},
   "source": [
    "Kuinka voimme tulostaa parilliset ja parittomat luvut listassa?"
   ]
  },
  {
   "cell_type": "code",
   "execution_count": 36,
   "id": "a943f005",
   "metadata": {},
   "outputs": [],
   "source": [
    "numbers=[1,2,3,4,5,6,7,8,9,10]\n",
    "#odd number =1,3,5...\n",
    "#even number = 2,4,6.."
   ]
  },
  {
   "cell_type": "code",
   "execution_count": 41,
   "id": "1eb7807e",
   "metadata": {},
   "outputs": [
    {
     "name": "stdout",
     "output_type": "stream",
     "text": [
      "2\n",
      "4\n",
      "6\n",
      "8\n",
      "10\n"
     ]
    }
   ],
   "source": [
    "for num in numbers:\n",
    "    if num % 2 == 0:\n",
    "        print(num)\n",
    "    \n",
    "    "
   ]
  },
  {
   "cell_type": "code",
   "execution_count": 44,
   "id": "e71f757e",
   "metadata": {},
   "outputs": [
    {
     "name": "stdout",
     "output_type": "stream",
     "text": [
      "1\n",
      "3\n",
      "5\n",
      "7\n",
      "9\n"
     ]
    }
   ],
   "source": [
    "for num in numbers:\n",
    "    if num % 2 == 1:\n",
    "        print(num)"
   ]
  },
  {
   "cell_type": "code",
   "execution_count": 46,
   "id": "f59bc8b2",
   "metadata": {},
   "outputs": [
    {
     "name": "stdout",
     "output_type": "stream",
     "text": [
      "P\n",
      "y\n",
      "t\n",
      "h\n",
      "o\n",
      "n\n",
      " \n",
      "P\n",
      "r\n",
      "o\n",
      "g\n",
      "r\n",
      "a\n",
      "m\n",
      "m\n",
      "i\n",
      "n\n",
      "g\n"
     ]
    }
   ],
   "source": [
    "my_string=\"Python Programming\"\n",
    "for letter in my_string:\n",
    "    print(letter)"
   ]
  },
  {
   "cell_type": "code",
   "execution_count": 47,
   "id": "0fcc3242",
   "metadata": {},
   "outputs": [],
   "source": [
    "my_new_list = [(\"a\",\"b\"),(\"c\",\"d\"),(\"e\",\"f\"),(\"g\",\"h\")]"
   ]
  },
  {
   "cell_type": "code",
   "execution_count": 48,
   "id": "01e9835a",
   "metadata": {},
   "outputs": [
    {
     "data": {
      "text/plain": [
       "('c', 'd')"
      ]
     },
     "execution_count": 48,
     "metadata": {},
     "output_type": "execute_result"
    }
   ],
   "source": [
    "my_new_list[1]"
   ]
  },
  {
   "cell_type": "code",
   "execution_count": 51,
   "id": "da93b5c5",
   "metadata": {},
   "outputs": [
    {
     "name": "stdout",
     "output_type": "stream",
     "text": [
      "('a', 'b')\n",
      "('c', 'd')\n",
      "('e', 'f')\n",
      "('g', 'h')\n"
     ]
    }
   ],
   "source": [
    "for element in my_new_list:\n",
    "    print (element)"
   ]
  },
  {
   "cell_type": "code",
   "execution_count": 53,
   "id": "5b232bd5",
   "metadata": {},
   "outputs": [
    {
     "name": "stdout",
     "output_type": "stream",
     "text": [
      "a\n",
      "c\n",
      "e\n",
      "g\n"
     ]
    }
   ],
   "source": [
    "for (x,y) in my_new_list:\n",
    "    print(x)"
   ]
  },
  {
   "cell_type": "code",
   "execution_count": 54,
   "id": "3607e137",
   "metadata": {},
   "outputs": [
    {
     "name": "stdout",
     "output_type": "stream",
     "text": [
      "b\n",
      "d\n",
      "f\n",
      "h\n"
     ]
    }
   ],
   "source": [
    "for (x,y) in my_new_list:\n",
    "    print(y)"
   ]
  },
  {
   "cell_type": "code",
   "execution_count": 56,
   "id": "6aba5189",
   "metadata": {},
   "outputs": [
    {
     "name": "stdout",
     "output_type": "stream",
     "text": [
      "1\n",
      "4\n",
      "7\n",
      "10\n"
     ]
    }
   ],
   "source": [
    "my_tuple_list = [(0,1,2),(3,4,5),(6,7,8),(9,10,11)]\n",
    "for (x,y,z) in my_tuple_list:\n",
    "    print(y)"
   ]
  },
  {
   "cell_type": "code",
   "execution_count": 57,
   "id": "3084d8c8",
   "metadata": {},
   "outputs": [
    {
     "name": "stdout",
     "output_type": "stream",
     "text": [
      "0\n",
      "3\n",
      "6\n",
      "9\n"
     ]
    }
   ],
   "source": [
    "for (x,y,z) in my_tuple_list:\n",
    "    print(x)"
   ]
  },
  {
   "cell_type": "code",
   "execution_count": 58,
   "id": "6b2fe986",
   "metadata": {},
   "outputs": [
    {
     "name": "stdout",
     "output_type": "stream",
     "text": [
      "2\n",
      "5\n",
      "8\n",
      "11\n"
     ]
    }
   ],
   "source": [
    "for (x,y,z) in my_tuple_list:\n",
    "    print(z)"
   ]
  },
  {
   "cell_type": "code",
   "execution_count": 59,
   "id": "876853f3",
   "metadata": {},
   "outputs": [],
   "source": [
    "my_set = {1,2,3,4,5}"
   ]
  },
  {
   "cell_type": "code",
   "execution_count": 61,
   "id": "3b3a0c45",
   "metadata": {},
   "outputs": [
    {
     "name": "stdout",
     "output_type": "stream",
     "text": [
      "1\n",
      "2\n",
      "3\n",
      "4\n",
      "5\n"
     ]
    }
   ],
   "source": [
    "for num in my_set:\n",
    "    print(num)"
   ]
  },
  {
   "cell_type": "code",
   "execution_count": 62,
   "id": "e15c4017",
   "metadata": {},
   "outputs": [],
   "source": [
    "my_dictionary = {\"k1\":100,\"k2\":200,\"k3\":300}"
   ]
  },
  {
   "cell_type": "code",
   "execution_count": 63,
   "id": "550e2906",
   "metadata": {},
   "outputs": [
    {
     "name": "stdout",
     "output_type": "stream",
     "text": [
      "k1\n",
      "k2\n",
      "k3\n"
     ]
    }
   ],
   "source": [
    "for element in my_dictionary:\n",
    "    print(element)"
   ]
  },
  {
   "cell_type": "code",
   "execution_count": 69,
   "id": "f0058b92",
   "metadata": {},
   "outputs": [
    {
     "name": "stdout",
     "output_type": "stream",
     "text": [
      "k\n",
      "k\n",
      "k\n"
     ]
    }
   ],
   "source": [
    "for (key,value) in my_dictionary:\n",
    "    print(key)"
   ]
  },
  {
   "cell_type": "code",
   "execution_count": 70,
   "id": "1adbe10d",
   "metadata": {},
   "outputs": [],
   "source": [
    "# continue - break - pass"
   ]
  },
  {
   "cell_type": "code",
   "execution_count": 72,
   "id": "0a77004a",
   "metadata": {},
   "outputs": [],
   "source": [
    "my_list=[10,20,30,40,50,60,70]"
   ]
  },
  {
   "cell_type": "code",
   "execution_count": 81,
   "id": "02b34d97",
   "metadata": {},
   "outputs": [
    {
     "name": "stdout",
     "output_type": "stream",
     "text": [
      "for loop started\n",
      "10\n",
      "20\n",
      "30\n",
      "40\n",
      "50\n",
      "60\n",
      "70\n",
      "for loop ended\n"
     ]
    }
   ],
   "source": [
    "print(\"for loop started\")\n",
    "for num in my_list:\n",
    "    print(num)\n",
    "print(\"for loop ended\")"
   ]
  },
  {
   "cell_type": "code",
   "execution_count": 82,
   "id": "d650f5c6",
   "metadata": {},
   "outputs": [
    {
     "name": "stdout",
     "output_type": "stream",
     "text": [
      "10\n",
      "20\n",
      "30\n",
      "Yes\n"
     ]
    }
   ],
   "source": [
    "for number in my_list:\n",
    "    print(number)\n",
    "    if number == 30:\n",
    "        print(\"Yes\")\n",
    "        break"
   ]
  },
  {
   "cell_type": "markdown",
   "id": "bf0a274b",
   "metadata": {},
   "source": [
    "break-lause Pythonissa on ohjauslause, jota käytetään keskeyttämään silmukka. Kun break-lause tulee esiin silmukassa, silmukka päättyy välittömästi ja ohjelma jatkaa seuraavaan lauseeseen."
   ]
  },
  {
   "cell_type": "code",
   "execution_count": 87,
   "id": "12f74079",
   "metadata": {},
   "outputs": [
    {
     "name": "stdout",
     "output_type": "stream",
     "text": [
      "10\n",
      "20\n",
      "30\n",
      "Yes\n",
      "40\n",
      "50\n",
      "60\n",
      "70\n"
     ]
    }
   ],
   "source": [
    "for number in my_list:\n",
    "    print(number)\n",
    "    if number == 30:\n",
    "        print(\"Yes\")\n",
    "        continue"
   ]
  },
  {
   "cell_type": "markdown",
   "id": "08f31031",
   "metadata": {},
   "source": [
    "continue lause Pythonin kielessä käytetään silmukassa, jotta se ohittaa nykyisen silmukan askeleen ja siirtyy suoraan seuraavaan askeleeseen. Kun continue lauseesi havaitaan, silmukan jäljellä oleva koodi jätetään suorittamatta ja silmukka palaa alkuun."
   ]
  },
  {
   "cell_type": "code",
   "execution_count": 89,
   "id": "716c51db",
   "metadata": {},
   "outputs": [
    {
     "name": "stdout",
     "output_type": "stream",
     "text": [
      "10\n",
      "20\n",
      "30\n",
      "50\n",
      "60\n",
      "70\n"
     ]
    }
   ],
   "source": [
    "for number in my_list:\n",
    "    if number == 40:\n",
    "        continue\n",
    "    print(number)"
   ]
  },
  {
   "cell_type": "code",
   "execution_count": 90,
   "id": "be308260",
   "metadata": {},
   "outputs": [],
   "source": [
    "for number in my_list:\n",
    "    pass"
   ]
  },
  {
   "cell_type": "markdown",
   "id": "fc30c42f",
   "metadata": {},
   "source": [
    "Tämä koodinpätkä luo silmukan, joka käy läpi jokaisen numeron minun_lista-nimisessä listassa. Jokaisella silmukan iteraatiolla numero-muuttuja saa arvokseen listan seuraavan numeron. Kuitenkin tässä koodissa ei ole suoritettavia toimenpiteitä silmukan sisällä. \"ohita\" ilmaisee, että silmukka jatkaa seuraavaan vaiheeseen ilman mitään toimenpiteitä.\n",
    "\n",
    "Tämä koodi on hyödyllinen silloin, kun haluamme käydä läpi jokaisen listan alkion yksitellen, mutta emme tarvitse suorittaa mitään erityisiä toimenpiteitä kunkin alkion käsittelyn aikana. Esimerkiksi, jos haluamme tarkistaa jokaisen listan numeron ja käsitellä vain tiettyjä ehtoja täyttäviä numeroita, voimme käyttää tätä rakennetta.\n"
   ]
  },
  {
   "cell_type": "code",
   "execution_count": null,
   "id": "3cffdc85",
   "metadata": {},
   "outputs": [],
   "source": []
  }
 ],
 "metadata": {
  "kernelspec": {
   "display_name": "Python 3 (ipykernel)",
   "language": "python",
   "name": "python3"
  },
  "language_info": {
   "codemirror_mode": {
    "name": "ipython",
    "version": 3
   },
   "file_extension": ".py",
   "mimetype": "text/x-python",
   "name": "python",
   "nbconvert_exporter": "python",
   "pygments_lexer": "ipython3",
   "version": "3.9.13"
  }
 },
 "nbformat": 4,
 "nbformat_minor": 5
}
