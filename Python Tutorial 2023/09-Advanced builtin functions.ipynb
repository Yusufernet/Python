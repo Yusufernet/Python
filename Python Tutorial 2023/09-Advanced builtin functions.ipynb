{
 "cells": [
  {
   "cell_type": "code",
   "execution_count": 2,
   "id": "9d6669b9",
   "metadata": {},
   "outputs": [],
   "source": [
    "#Range"
   ]
  },
  {
   "cell_type": "markdown",
   "id": "c5c4a65c",
   "metadata": {},
   "source": [
    "range() toiminto Pythonissa on funktio, jota käytetään peräkkäisten numeroiden sarjojen luomiseen. Sitä käytetään yleisesti silmukoissa tai listoissa tietyllä numerovälillä liikkumiseen. range() toiminnolla on kolme eri käyttötarkoitusta:"
   ]
  },
  {
   "cell_type": "markdown",
   "id": "9ca13a16",
   "metadata": {},
   "source": [
    "range(stop): Tätä käytettäessä funktio luo peräkkäisten numeroiden sarjan alkaen 0:sta ja päättyen stop-arvoon (pois lukien). Esimerkiksi:"
   ]
  },
  {
   "cell_type": "code",
   "execution_count": 3,
   "id": "5196f4b8",
   "metadata": {},
   "outputs": [
    {
     "name": "stdout",
     "output_type": "stream",
     "text": [
      "0\n",
      "1\n",
      "2\n",
      "3\n",
      "4\n"
     ]
    }
   ],
   "source": [
    "for i in range(5):\n",
    "    print(i)\n"
   ]
  },
  {
   "cell_type": "markdown",
   "id": "b04be324",
   "metadata": {},
   "source": [
    "Tässä esimerkissä range(5) luo sarjan numeroita 0:sta alkaen ja päättyen 5:een. Jokainen numero annetaan muuttujaan i ja tulostetaan näytölle."
   ]
  },
  {
   "cell_type": "markdown",
   "id": "010315e4",
   "metadata": {},
   "source": [
    "range(start, stop): Tätä käytettäessä funktio luo peräkkäisten numeroiden sarjan, joka alkaa start-arvosta ja päättyy stop-arvoon (pois lukien). Esimerkiksi:"
   ]
  },
  {
   "cell_type": "code",
   "execution_count": 4,
   "id": "405b27ea",
   "metadata": {},
   "outputs": [
    {
     "name": "stdout",
     "output_type": "stream",
     "text": [
      "2\n",
      "3\n",
      "4\n",
      "5\n",
      "6\n",
      "7\n"
     ]
    }
   ],
   "source": [
    "for i in range(2, 8):\n",
    "    print(i)\n"
   ]
  },
  {
   "cell_type": "markdown",
   "id": "34bccbea",
   "metadata": {},
   "source": [
    "Tässä esimerkissä range(2, 8) luo sarjan numeroita, jotka alkavat 2:sta ja päättyvät 8:aan. Jokainen numero annetaan muuttujaan i ja tulostetaan näytölle."
   ]
  },
  {
   "cell_type": "markdown",
   "id": "5409c3e1",
   "metadata": {},
   "source": [
    "#\n",
    "range(start, stop, step): Tätä käytettäessä funktio luo peräkkäisten numeroiden sarjan, joka alkaa start-arvosta ja päättyy stop-arvoon (pois lukien). step-parametri määrittää numeroiden välisen eron. Esimerkiksi:"
   ]
  },
  {
   "cell_type": "code",
   "execution_count": 5,
   "id": "3d4fd39d",
   "metadata": {},
   "outputs": [
    {
     "name": "stdout",
     "output_type": "stream",
     "text": [
      "1\n",
      "3\n",
      "5\n",
      "7\n",
      "9\n"
     ]
    }
   ],
   "source": [
    "for i in range(1, 10, 2):\n",
    "    print(i)\n"
   ]
  },
  {
   "cell_type": "markdown",
   "id": "8d40fd60",
   "metadata": {},
   "source": [
    "Tässä esimerkissä range(1, 10, 2) luo sarjan numeroita, jotka alkavat 1:stä ja päättyvät 10:een, ja numeroiden välissä on aina ero 2. Jokainen numero annetaan muuttujaan i ja tulostetaan näytölle.\n",
    "\n",
    "range() toiminto on erittäin hyödyllinen erityisesti silmukoiden avulla tietyn numerovälin läpikäymisessä."
   ]
  },
  {
   "cell_type": "code",
   "execution_count": 1,
   "id": "bdf91fc2",
   "metadata": {},
   "outputs": [
    {
     "data": {
      "text/plain": [
       "range(0, 10)"
      ]
     },
     "execution_count": 1,
     "metadata": {},
     "output_type": "execute_result"
    }
   ],
   "source": [
    "range(10)"
   ]
  },
  {
   "cell_type": "code",
   "execution_count": 2,
   "id": "4973039a",
   "metadata": {},
   "outputs": [],
   "source": [
    "my_range = list(range(10))\n"
   ]
  },
  {
   "cell_type": "code",
   "execution_count": 6,
   "id": "6be39d9f",
   "metadata": {},
   "outputs": [],
   "source": [
    "my_list = [1,2,3,4,5,6,7,8,9]"
   ]
  },
  {
   "cell_type": "code",
   "execution_count": 10,
   "id": "69a510d4",
   "metadata": {},
   "outputs": [
    {
     "name": "stdout",
     "output_type": "stream",
     "text": [
      "0\n",
      "2\n",
      "4\n",
      "6\n",
      "8\n",
      "10\n",
      "12\n",
      "14\n",
      "16\n",
      "18\n"
     ]
    }
   ],
   "source": [
    "my_list = list(range(10))\n",
    "for num in my_list:\n",
    "    print(num * 2)\n"
   ]
  },
  {
   "cell_type": "code",
   "execution_count": 11,
   "id": "bbb1a4f8",
   "metadata": {},
   "outputs": [
    {
     "data": {
      "text/plain": [
       "[5, 6, 7, 8, 9, 10, 11, 12, 13, 14, 15, 16, 17, 18, 19, 20, 21, 22, 23, 24]"
      ]
     },
     "execution_count": 11,
     "metadata": {},
     "output_type": "execute_result"
    }
   ],
   "source": [
    "list(range(5,25))"
   ]
  },
  {
   "cell_type": "code",
   "execution_count": 12,
   "id": "abad5a36",
   "metadata": {},
   "outputs": [
    {
     "data": {
      "text/plain": [
       "[5, 10, 15, 20]"
      ]
     },
     "execution_count": 12,
     "metadata": {},
     "output_type": "execute_result"
    }
   ],
   "source": [
    "list(range(5,25,5))"
   ]
  },
  {
   "cell_type": "code",
   "execution_count": 2,
   "id": "74712db7",
   "metadata": {},
   "outputs": [],
   "source": [
    "my_list2 =[20,30,40,50,60]"
   ]
  },
  {
   "cell_type": "code",
   "execution_count": 4,
   "id": "10b91765",
   "metadata": {},
   "outputs": [
    {
     "name": "stdout",
     "output_type": "stream",
     "text": [
      "20\n",
      "30\n",
      "40\n",
      "50\n",
      "60\n"
     ]
    }
   ],
   "source": [
    "for num in my_list2:\n",
    "    print(num)"
   ]
  },
  {
   "cell_type": "code",
   "execution_count": 6,
   "id": "6a235871",
   "metadata": {},
   "outputs": [
    {
     "name": "stdout",
     "output_type": "stream",
     "text": [
      "0\n",
      "1\n",
      "2\n",
      "3\n",
      "4\n"
     ]
    }
   ],
   "source": [
    "for index in range(len(my_list2)):\n",
    "    print(index)"
   ]
  },
  {
   "cell_type": "code",
   "execution_count": 8,
   "id": "4d48a34f",
   "metadata": {},
   "outputs": [
    {
     "name": "stdout",
     "output_type": "stream",
     "text": [
      "20\n",
      "30\n",
      "40\n",
      "50\n",
      "60\n"
     ]
    }
   ],
   "source": [
    "for index in range(len(my_list2)):\n",
    "    print(my_list2[index])"
   ]
  },
  {
   "cell_type": "code",
   "execution_count": 9,
   "id": "4b3e7a3e",
   "metadata": {},
   "outputs": [],
   "source": [
    "#How we can print the number and the index number same time?\n",
    "#miten tulostaa alkion ja indeksin samanaikaisesti?\"\n",
    "#enumerate"
   ]
  },
  {
   "cell_type": "code",
   "execution_count": 10,
   "id": "d7c483d3",
   "metadata": {},
   "outputs": [
    {
     "name": "stdout",
     "output_type": "stream",
     "text": [
      "(0, 20)\n",
      "(1, 30)\n",
      "(2, 40)\n",
      "(3, 50)\n",
      "(4, 60)\n"
     ]
    }
   ],
   "source": [
    "for element in enumerate (my_list2):\n",
    "    print(element)"
   ]
  },
  {
   "cell_type": "code",
   "execution_count": 11,
   "id": "880e0afc",
   "metadata": {},
   "outputs": [
    {
     "name": "stdout",
     "output_type": "stream",
     "text": [
      "20\n",
      "30\n",
      "40\n",
      "50\n",
      "60\n"
     ]
    }
   ],
   "source": [
    "for (index,value) in enumerate(my_list2):\n",
    "    print(value)"
   ]
  },
  {
   "cell_type": "code",
   "execution_count": 12,
   "id": "6151cc51",
   "metadata": {},
   "outputs": [
    {
     "name": "stdout",
     "output_type": "stream",
     "text": [
      "0\n",
      "1\n",
      "2\n",
      "3\n",
      "4\n"
     ]
    }
   ],
   "source": [
    "for (index,value) in enumerate(my_list2):\n",
    "    print(index)"
   ]
  },
  {
   "cell_type": "code",
   "execution_count": 13,
   "id": "7331dd45",
   "metadata": {},
   "outputs": [],
   "source": [
    "#Random"
   ]
  },
  {
   "cell_type": "code",
   "execution_count": 36,
   "id": "c062bc6a",
   "metadata": {},
   "outputs": [],
   "source": [
    "from random import shuffle"
   ]
  },
  {
   "cell_type": "code",
   "execution_count": 29,
   "id": "70f4f10b",
   "metadata": {},
   "outputs": [],
   "source": [
    "from random import randint"
   ]
  },
  {
   "cell_type": "code",
   "execution_count": 30,
   "id": "6e2cd8bc",
   "metadata": {},
   "outputs": [
    {
     "data": {
      "text/plain": [
       "1"
      ]
     },
     "execution_count": 30,
     "metadata": {},
     "output_type": "execute_result"
    }
   ],
   "source": [
    "randint(0,100)"
   ]
  },
  {
   "cell_type": "code",
   "execution_count": 31,
   "id": "b0518b2b",
   "metadata": {},
   "outputs": [
    {
     "data": {
      "text/plain": [
       "[20, 30, 40, 50, 60]"
      ]
     },
     "execution_count": 31,
     "metadata": {},
     "output_type": "execute_result"
    }
   ],
   "source": [
    "my_list2"
   ]
  },
  {
   "cell_type": "code",
   "execution_count": 37,
   "id": "5105a99f",
   "metadata": {},
   "outputs": [],
   "source": [
    "shuffle(my_list2)"
   ]
  },
  {
   "cell_type": "code",
   "execution_count": 38,
   "id": "a50cbdb2",
   "metadata": {},
   "outputs": [
    {
     "data": {
      "text/plain": [
       "[40, 30, 60, 20, 50]"
      ]
     },
     "execution_count": 38,
     "metadata": {},
     "output_type": "execute_result"
    }
   ],
   "source": [
    "my_list2"
   ]
  },
  {
   "cell_type": "code",
   "execution_count": 40,
   "id": "0094c501",
   "metadata": {},
   "outputs": [],
   "source": [
    "my_list2.append([70, 80, 90, 100, 110])"
   ]
  },
  {
   "cell_type": "code",
   "execution_count": 41,
   "id": "86db6140",
   "metadata": {},
   "outputs": [
    {
     "data": {
      "text/plain": [
       "[40, 30, 60, 20, 50, [70, 80, 90, 100, 110]]"
      ]
     },
     "execution_count": 41,
     "metadata": {},
     "output_type": "execute_result"
    }
   ],
   "source": [
    "my_list2"
   ]
  },
  {
   "cell_type": "code",
   "execution_count": 46,
   "id": "691ab566",
   "metadata": {},
   "outputs": [
    {
     "data": {
      "text/plain": [
       "30"
      ]
     },
     "execution_count": 46,
     "metadata": {},
     "output_type": "execute_result"
    }
   ],
   "source": [
    "my_list2[randint(0,len(my_list2))]"
   ]
  },
  {
   "cell_type": "code",
   "execution_count": 47,
   "id": "d409007b",
   "metadata": {},
   "outputs": [
    {
     "name": "stdout",
     "output_type": "stream",
     "text": [
      "True True\n"
     ]
    }
   ],
   "source": [
    "a = [1,2,3]\n",
    "b = a\n",
    "print(a is b, a==b)"
   ]
  },
  {
   "cell_type": "code",
   "execution_count": 48,
   "id": "32acfb76",
   "metadata": {},
   "outputs": [],
   "source": [
    "food_list = [\"Apple\",\"banana\",\"melon\"]"
   ]
  },
  {
   "cell_type": "code",
   "execution_count": 50,
   "id": "83ff9898",
   "metadata": {},
   "outputs": [],
   "source": [
    "calories_list = [100,150,200]"
   ]
  },
  {
   "cell_type": "code",
   "execution_count": 51,
   "id": "2b5cdf2d",
   "metadata": {},
   "outputs": [],
   "source": [
    "day_list = [\"monday\",\"tuesday\",\"wednesday\"]"
   ]
  },
  {
   "cell_type": "code",
   "execution_count": 54,
   "id": "34ae0941",
   "metadata": {},
   "outputs": [],
   "source": [
    "zipped_list = list(zip(food_list,calories_list,day_list))"
   ]
  },
  {
   "cell_type": "code",
   "execution_count": 55,
   "id": "b8fdf1db",
   "metadata": {},
   "outputs": [
    {
     "data": {
      "text/plain": [
       "[('Apple', 100, 'monday'),\n",
       " ('banana', 150, 'tuesday'),\n",
       " ('melon', 200, 'wednesday')]"
      ]
     },
     "execution_count": 55,
     "metadata": {},
     "output_type": "execute_result"
    }
   ],
   "source": [
    "zipped_list"
   ]
  },
  {
   "cell_type": "code",
   "execution_count": 56,
   "id": "dbe75cb4",
   "metadata": {},
   "outputs": [],
   "source": [
    "new_list = []\n",
    "my_string = \"Metallica\"\n",
    "for element in my_string:\n",
    "    new_list.append(element)"
   ]
  },
  {
   "cell_type": "code",
   "execution_count": 57,
   "id": "d60845e9",
   "metadata": {},
   "outputs": [
    {
     "data": {
      "text/plain": [
       "['M', 'e', 't', 'a', 'l', 'l', 'i', 'c', 'a']"
      ]
     },
     "execution_count": 57,
     "metadata": {},
     "output_type": "execute_result"
    }
   ],
   "source": [
    "new_list"
   ]
  },
  {
   "cell_type": "code",
   "execution_count": 58,
   "id": "7a7e495a",
   "metadata": {},
   "outputs": [],
   "source": [
    "#List comprehension"
   ]
  },
  {
   "cell_type": "code",
   "execution_count": 60,
   "id": "d029ecc7",
   "metadata": {},
   "outputs": [],
   "source": [
    "number_list=[10,20,30,40,50,60]"
   ]
  },
  {
   "cell_type": "code",
   "execution_count": 63,
   "id": "04a5b47b",
   "metadata": {},
   "outputs": [],
   "source": [
    "new_number_list = [ num/2 for num in number_list]"
   ]
  },
  {
   "cell_type": "code",
   "execution_count": 64,
   "id": "739ddd00",
   "metadata": {},
   "outputs": [
    {
     "data": {
      "text/plain": [
       "[5.0, 10.0, 15.0, 20.0, 25.0, 30.0]"
      ]
     },
     "execution_count": 64,
     "metadata": {},
     "output_type": "execute_result"
    }
   ],
   "source": [
    "new_number_list"
   ]
  },
  {
   "cell_type": "code",
   "execution_count": null,
   "id": "9539f045",
   "metadata": {},
   "outputs": [],
   "source": []
  }
 ],
 "metadata": {
  "kernelspec": {
   "display_name": "Python 3 (ipykernel)",
   "language": "python",
   "name": "python3"
  },
  "language_info": {
   "codemirror_mode": {
    "name": "ipython",
    "version": 3
   },
   "file_extension": ".py",
   "mimetype": "text/x-python",
   "name": "python",
   "nbconvert_exporter": "python",
   "pygments_lexer": "ipython3",
   "version": "3.9.13"
  }
 },
 "nbformat": 4,
 "nbformat_minor": 5
}
