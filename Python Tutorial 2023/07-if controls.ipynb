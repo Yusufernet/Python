{
 "cells": [
  {
   "cell_type": "code",
   "execution_count": 1,
   "id": "ea62bec5",
   "metadata": {},
   "outputs": [],
   "source": [
    "x = 8\n",
    "y = 10"
   ]
  },
  {
   "cell_type": "code",
   "execution_count": 2,
   "id": "24ff0b21",
   "metadata": {},
   "outputs": [
    {
     "data": {
      "text/plain": [
       "True"
      ]
     },
     "execution_count": 2,
     "metadata": {},
     "output_type": "execute_result"
    }
   ],
   "source": [
    "x<y"
   ]
  },
  {
   "cell_type": "code",
   "execution_count": 3,
   "id": "50b0f8e1",
   "metadata": {},
   "outputs": [
    {
     "data": {
      "text/plain": [
       "True"
      ]
     },
     "execution_count": 3,
     "metadata": {},
     "output_type": "execute_result"
    }
   ],
   "source": [
    "y>x"
   ]
  },
  {
   "cell_type": "code",
   "execution_count": 4,
   "id": "07fea5b5",
   "metadata": {},
   "outputs": [
    {
     "data": {
      "text/plain": [
       "False"
      ]
     },
     "execution_count": 4,
     "metadata": {},
     "output_type": "execute_result"
    }
   ],
   "source": [
    "x>y"
   ]
  },
  {
   "cell_type": "code",
   "execution_count": 5,
   "id": "236691f0",
   "metadata": {},
   "outputs": [
    {
     "ename": "SyntaxError",
     "evalue": "invalid syntax (2897916503.py, line 2)",
     "output_type": "error",
     "traceback": [
      "\u001b[0;36m  File \u001b[0;32m\"/var/folders/bg/d0tgpy4n4zjby5fw1w0nmjs40000gn/T/ipykernel_54719/2897916503.py\"\u001b[0;36m, line \u001b[0;32m2\u001b[0m\n\u001b[0;31m    Kuinka voimme nähdä, ovatko x ja y yhtä suuret\u001b[0m\n\u001b[0m           ^\u001b[0m\n\u001b[0;31mSyntaxError\u001b[0m\u001b[0;31m:\u001b[0m invalid syntax\n"
     ]
    }
   ],
   "source": [
    "Question: How we can see is x and y equal?\n",
    "Kuinka voimme nähdä, ovatko x ja y yhtä suuret "
   ]
  },
  {
   "cell_type": "code",
   "execution_count": 6,
   "id": "4a7e87a8",
   "metadata": {},
   "outputs": [
    {
     "data": {
      "text/plain": [
       "False"
      ]
     },
     "execution_count": 6,
     "metadata": {},
     "output_type": "execute_result"
    }
   ],
   "source": [
    "x == y"
   ]
  },
  {
   "cell_type": "code",
   "execution_count": 2,
   "id": "dc7e6088",
   "metadata": {},
   "outputs": [],
   "source": [
    "#Question : how we can see x is not exual to y \n",
    "#Kuinka voimme nähdä, ettei x ole yhtäsuuri kuin y?"
   ]
  },
  {
   "cell_type": "code",
   "execution_count": 8,
   "id": "319822fd",
   "metadata": {},
   "outputs": [
    {
     "data": {
      "text/plain": [
       "True"
      ]
     },
     "execution_count": 8,
     "metadata": {},
     "output_type": "execute_result"
    }
   ],
   "source": [
    "x != y"
   ]
  },
  {
   "cell_type": "markdown",
   "id": "c6b1a0bb",
   "metadata": {},
   "source": [
    "Pythonissa \"and\" lause on looginen operaattori, jota käytetään yleisesti ehtolauseissa tai ohjausrakenteissa.\n",
    "\n",
    "and lause palauttaa toden tuloksen, jos molemmat ehdot ovat tosia. Jos jompikumpi tai molemmat ehdoista ovat epätosia, and lause palauttaa epätoden tuloksen\n"
   ]
  },
  {
   "cell_type": "code",
   "execution_count": 9,
   "id": "620239dc",
   "metadata": {},
   "outputs": [
    {
     "data": {
      "text/plain": [
       "True"
      ]
     },
     "execution_count": 9,
     "metadata": {},
     "output_type": "execute_result"
    }
   ],
   "source": [
    "#Both needs to be true to get true boolean\n",
    "4>2 and 3>1"
   ]
  },
  {
   "cell_type": "code",
   "execution_count": 10,
   "id": "29879ec3",
   "metadata": {},
   "outputs": [
    {
     "data": {
      "text/plain": [
       "False"
      ]
     },
     "execution_count": 10,
     "metadata": {},
     "output_type": "execute_result"
    }
   ],
   "source": [
    "5 < 3 and 6 < 10"
   ]
  },
  {
   "cell_type": "code",
   "execution_count": 11,
   "id": "fa3e5712",
   "metadata": {},
   "outputs": [
    {
     "data": {
      "text/plain": [
       "True"
      ]
     },
     "execution_count": 11,
     "metadata": {},
     "output_type": "execute_result"
    }
   ],
   "source": [
    "True and True"
   ]
  },
  {
   "cell_type": "code",
   "execution_count": 12,
   "id": "cf14fe7c",
   "metadata": {},
   "outputs": [
    {
     "data": {
      "text/plain": [
       "False"
      ]
     },
     "execution_count": 12,
     "metadata": {},
     "output_type": "execute_result"
    }
   ],
   "source": [
    "True and False"
   ]
  },
  {
   "cell_type": "code",
   "execution_count": 13,
   "id": "a28a4723",
   "metadata": {},
   "outputs": [
    {
     "data": {
      "text/plain": [
       "False"
      ]
     },
     "execution_count": 13,
     "metadata": {},
     "output_type": "execute_result"
    }
   ],
   "source": [
    "False and False"
   ]
  },
  {
   "cell_type": "code",
   "execution_count": 14,
   "id": "7627d042",
   "metadata": {},
   "outputs": [
    {
     "data": {
      "text/plain": [
       "True"
      ]
     },
     "execution_count": 14,
     "metadata": {},
     "output_type": "execute_result"
    }
   ],
   "source": [
    "10 in [10,20,30]"
   ]
  },
  {
   "cell_type": "code",
   "execution_count": 15,
   "id": "191d12a0",
   "metadata": {},
   "outputs": [
    {
     "data": {
      "text/plain": [
       "True"
      ]
     },
     "execution_count": 15,
     "metadata": {},
     "output_type": "execute_result"
    }
   ],
   "source": [
    "10 in {10,20,30}"
   ]
  },
  {
   "cell_type": "code",
   "execution_count": 16,
   "id": "d7d92c14",
   "metadata": {},
   "outputs": [
    {
     "data": {
      "text/plain": [
       "False"
      ]
     },
     "execution_count": 16,
     "metadata": {},
     "output_type": "execute_result"
    }
   ],
   "source": [
    "dictionary={\"a\":10,\"b\":20}\n",
    "10 in dictionary"
   ]
  },
  {
   "cell_type": "code",
   "execution_count": 17,
   "id": "cd727f39",
   "metadata": {},
   "outputs": [
    {
     "data": {
      "text/plain": [
       "True"
      ]
     },
     "execution_count": 17,
     "metadata": {},
     "output_type": "execute_result"
    }
   ],
   "source": [
    "10 in dictionary.values()"
   ]
  },
  {
   "cell_type": "markdown",
   "id": "38eac495",
   "metadata": {},
   "source": [
    "# If Controls\n"
   ]
  },
  {
   "cell_type": "code",
   "execution_count": 18,
   "id": "aa4841f0",
   "metadata": {},
   "outputs": [],
   "source": [
    "Favorite_programming = \"Python\""
   ]
  },
  {
   "cell_type": "code",
   "execution_count": 19,
   "id": "2d818a4d",
   "metadata": {},
   "outputs": [
    {
     "name": "stdout",
     "output_type": "stream",
     "text": [
      "Your Favorite programming language is Python.\n"
     ]
    }
   ],
   "source": [
    "if Favorite_programming ==\"Python\":\n",
    "    print(f\"Your Favorite programming language is {Favorite_programming}.\")"
   ]
  },
  {
   "cell_type": "code",
   "execution_count": 20,
   "id": "ec918650",
   "metadata": {},
   "outputs": [
    {
     "name": "stdout",
     "output_type": "stream",
     "text": [
      "Your Favorite programming language is Python.\n"
     ]
    }
   ],
   "source": [
    "if Favorite_programming ==\"Python\":\n",
    "    print(\"Your Favorite programming language is \"+ Favorite_programming+ \".\")"
   ]
  },
  {
   "cell_type": "code",
   "execution_count": 24,
   "id": "0f61e2b2",
   "metadata": {},
   "outputs": [
    {
     "name": "stdout",
     "output_type": "stream",
     "text": [
      "What is your favorite color? Blue or Red? Orange\n",
      "Your favorite color is  Orange.\n"
     ]
    }
   ],
   "source": [
    "fav_color = input(\"What is your favorite color? Blue or Red? \")\n",
    "if fav_color == \"Blue\":\n",
    "    print(f\"Your favorite color is  {fav_color}.\")\n",
    "elif fav_color== \"Red\":\n",
    "    print(f\"Your favorite color is  {fav_color}.\")\n",
    "else:\n",
    "    print(f\"Your favorite color is  {fav_color}.\")\n",
    "    "
   ]
  },
  {
   "cell_type": "markdown",
   "id": "887e684f",
   "metadata": {},
   "source": [
    "# Question\n",
    "ask user's favorite programming language with 5 conditions "
   ]
  },
  {
   "cell_type": "code",
   "execution_count": 26,
   "id": "80ee287f",
   "metadata": {},
   "outputs": [
    {
     "name": "stdout",
     "output_type": "stream",
     "text": [
      "What is your favorite programming language? Python,C++,Java,JavaScript C++\n",
      "Your favorite programming language is C++\n"
     ]
    }
   ],
   "source": [
    "programming = input(\"What is your favorite programming language? Python,C++,Java,JavaScript \")\n",
    "if programming == \"Python\":\n",
    "    print(f\"Your favorite programming language is {programming}\")\n",
    "elif programming == \"C++\":\n",
    "    print(f\"Your favorite programming language is {programming}\")\n",
    "elif programming == \"Java\":\n",
    "    print(f\"Your favorite programming language is {programming}\")\n",
    "elif programming == \"JavaScript\":\n",
    "    print(f\"Your favorite programming language is {programming}\")\n",
    "else:\n",
    "    print(f\"Your favorite programming language is {programming}\")"
   ]
  },
  {
   "cell_type": "code",
   "execution_count": 5,
   "id": "be8433f0",
   "metadata": {},
   "outputs": [
    {
     "name": "stdout",
     "output_type": "stream",
     "text": [
      "how old are you? 33\n",
      "30-age-40\n"
     ]
    }
   ],
   "source": [
    "my_age = int(input(\"how old are you? \"))\n",
    "if my_age <= 18:\n",
    "    print(\"age <= 18\")\n",
    "elif my_age > 18 and my_age <=30:\n",
    "    print(\"18-age-30\")\n",
    "elif my_age > 30 and my_age <= 40:\n",
    "    print(\"30-age-40\")\n",
    "else:\n",
    "    print(\"age > 40\")\n"
   ]
  },
  {
   "cell_type": "code",
   "execution_count": 7,
   "id": "db12047d",
   "metadata": {},
   "outputs": [
    {
     "name": "stdout",
     "output_type": "stream",
     "text": [
      "Enter your superhero: Batman\n",
      ":((\n"
     ]
    }
   ],
   "source": [
    "my_superhero = input(\"Enter your superhero: \")\n",
    "my_superhero_list = [\"Spider Man\",\"Iron Man\",\"Thor\",\"Black Widow\"]\n",
    "if my_superhero in my_superhero_list:\n",
    "    print(\":))\")\n",
    "else:\n",
    "    print(\":((\")"
   ]
  },
  {
   "cell_type": "code",
   "execution_count": null,
   "id": "13d519c4",
   "metadata": {},
   "outputs": [],
   "source": []
  },
  {
   "cell_type": "code",
   "execution_count": null,
   "id": "64dddfc1",
   "metadata": {},
   "outputs": [],
   "source": []
  },
  {
   "cell_type": "code",
   "execution_count": null,
   "id": "a2e985bf",
   "metadata": {},
   "outputs": [],
   "source": []
  },
  {
   "cell_type": "code",
   "execution_count": null,
   "id": "2d7c6008",
   "metadata": {},
   "outputs": [],
   "source": []
  }
 ],
 "metadata": {
  "kernelspec": {
   "display_name": "Python 3 (ipykernel)",
   "language": "python",
   "name": "python3"
  },
  "language_info": {
   "codemirror_mode": {
    "name": "ipython",
    "version": 3
   },
   "file_extension": ".py",
   "mimetype": "text/x-python",
   "name": "python",
   "nbconvert_exporter": "python",
   "pygments_lexer": "ipython3",
   "version": "3.9.13"
  }
 },
 "nbformat": 4,
 "nbformat_minor": 5
}
