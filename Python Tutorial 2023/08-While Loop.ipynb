{
 "cells": [
  {
   "cell_type": "code",
   "execution_count": 2,
   "id": "cffaacb3",
   "metadata": {},
   "outputs": [
    {
     "name": "stdout",
     "output_type": "stream",
     "text": [
      "While loop started\n",
      "0\n",
      "1\n",
      "2\n",
      "3\n",
      "4\n",
      "5\n",
      "6\n",
      "7\n",
      "8\n",
      "9\n",
      "While loop ended\n"
     ]
    }
   ],
   "source": [
    "print(\"While loop started\")\n",
    "x = 0\n",
    "while x < 10:\n",
    "    print(x)\n",
    "    x = x + 1\n",
    "print(\"While loop ended\")"
   ]
  },
  {
   "cell_type": "markdown",
   "id": "9c4aa22d",
   "metadata": {},
   "source": [
    "Tämä koodinpätkä käyttää while-silmukkaa ja toistaa tiettyä lohkoa niin kauan kuin tietty ehto täyttyy. Tässä tapauksessa silmukka suoritetaan niin kauan kuin x on alle 10.\n",
    "\n",
    "Aluksi määritellään x-muuttuja, jonka alkuarvo on 0. Tämän jälkeen silmukka alkaa. Silmukan alussa tarkistetaan ehto, eli onko x edelleen alle 10. Jos ehto on totta, silmukan lohko suoritetaan.\n",
    "\n",
    "Silmukan lohkossa tulostetaan x:n arvo. Tämän jälkeen x:ään lisätään 1, jotta seuraavalla silmukan kierroksella tulostetaan seuraava luku. Tämä prosessi toistetaan niin kauan kuin ehto x < 10 on totta.\n",
    "\n",
    "Kun ehto x < 10 ei enää täyty, silmukka päättyy ja siirrytään eteenpäin, tulostetaan \"Silmukka päättyi\" ja koodin suoritus jatkuu seuraavista riveistä.\n",
    "\n",
    "Tämä while-silmukka on hyödyllinen, kun halutaan toistaa lohkoa niin kauan kuin tietty ehto on voimassa."
   ]
  },
  {
   "cell_type": "code",
   "execution_count": 5,
   "id": "59385ba6",
   "metadata": {},
   "outputs": [
    {
     "name": "stdout",
     "output_type": "stream",
     "text": [
      "20 in last list\n"
     ]
    }
   ],
   "source": [
    "last_list = [10,20,30,40,50,60]\n",
    "while 20 in last_list:\n",
    "    print(\"20 in last list\")\n",
    "    last_list.remove(20)"
   ]
  },
  {
   "cell_type": "code",
   "execution_count": 7,
   "id": "73344b9a",
   "metadata": {},
   "outputs": [
    {
     "name": "stdout",
     "output_type": "stream",
     "text": [
      "20 in last list\n",
      "20 in last list\n",
      "20 in last list\n",
      "20 in last list\n",
      "20 in last list\n"
     ]
    }
   ],
   "source": [
    "last_list = [10,20,30,40,50,60]\n",
    "while 20 in last_list:\n",
    "    print(\"20 in last list\")\n",
    "    last_list.pop()"
   ]
  },
  {
   "cell_type": "code",
   "execution_count": 8,
   "id": "d2c6e58b",
   "metadata": {},
   "outputs": [],
   "source": [
    "my_list=[10,20,30]"
   ]
  },
  {
   "cell_type": "code",
   "execution_count": 9,
   "id": "af3c4b3c",
   "metadata": {},
   "outputs": [
    {
     "name": "stdout",
     "output_type": "stream",
     "text": [
      "my list: [10, 20, 30]\n"
     ]
    }
   ],
   "source": [
    "print(f\"my list: {my_list}\")"
   ]
  },
  {
   "cell_type": "markdown",
   "id": "756bd9b0",
   "metadata": {},
   "source": [
    "Tämä koodinpätkä luo \"my_list\" nimisen listan, jossa on kolme lukua: 10, 20 ja 30. Tämän jälkeen tulostetaan lista käyttäen f-stringiä eli muotoiltua merkkijonoa, jossa { } -merkkien sisään voi lisätä muuttujia.\n",
    "\n",
    "Tulostuksessa näkyy \"lista: \" -teksti, jonka jälkeen tulee muuttujan {my_list} arvo, joka on listan sisältö. F-stringin avulla muuttuja \"my_list\" sijoitetaan tekstiin ja sen arvo näytetään.\n",
    "\n",
    "Tämä koodinpätkä luo ja tulostaa listan, joka sisältää luvut 10, 20 ja 30."
   ]
  },
  {
   "cell_type": "code",
   "execution_count": 1,
   "id": "f894ac45",
   "metadata": {},
   "outputs": [
    {
     "name": "stdout",
     "output_type": "stream",
     "text": [
      "What is your name? Yusuf\n",
      "How old are you? 25\n",
      "Where are you from? Turkey\n",
      "Welcome to our programme Yusuf\n",
      "Hello, nice to meet you Yusuf.You are 25 years old.You are from Turkey.\n"
     ]
    }
   ],
   "source": [
    "name = input(\"What is your name? \")\n",
    "age = input(\"How old are you? \")\n",
    "country = input(\"Where are you from? \")\n",
    "print(\"Welcome to our programme\",name)\n",
    "print(f\"Hello, nice to meet you {name}.You are {age} years old.You are from {country}.\")"
   ]
  },
  {
   "cell_type": "code",
   "execution_count": 2,
   "id": "1fb5ed36",
   "metadata": {},
   "outputs": [
    {
     "name": "stdout",
     "output_type": "stream",
     "text": [
      "Value of p is : 0\n",
      "Value of p is : 1\n",
      "Value of p is : 2\n",
      "Value of p is : 3\n",
      "Value of p is : 4\n",
      "Value of p is : 5\n",
      "Value of p is : 6\n",
      "Value of p is : 7\n",
      "Value of p is : 8\n",
      "Value of p is : 9\n"
     ]
    }
   ],
   "source": [
    "p = 0\n",
    "while p < 10:\n",
    "    print(f\"Value of p is : {p}\")\n",
    "    p += 1"
   ]
  },
  {
   "cell_type": "code",
   "execution_count": null,
   "id": "88818bfc",
   "metadata": {},
   "outputs": [],
   "source": []
  }
 ],
 "metadata": {
  "kernelspec": {
   "display_name": "Python 3 (ipykernel)",
   "language": "python",
   "name": "python3"
  },
  "language_info": {
   "codemirror_mode": {
    "name": "ipython",
    "version": 3
   },
   "file_extension": ".py",
   "mimetype": "text/x-python",
   "name": "python",
   "nbconvert_exporter": "python",
   "pygments_lexer": "ipython3",
   "version": "3.9.13"
  }
 },
 "nbformat": 4,
 "nbformat_minor": 5
}
