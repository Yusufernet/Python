{
 "cells": [
  {
   "cell_type": "markdown",
   "id": "88a95002",
   "metadata": {},
   "source": [
    "Pythonissa \"set\" tietorakenne edustaa kokoelmaa, joka koostuu ainutlaatuisista ja järjestämättömistä alkioista. Setin voi luoda aaltosulkeiden {} tai set() -funktion avulla. Tässä on esimerkki setistä:"
   ]
  },
  {
   "cell_type": "code",
   "execution_count": 7,
   "id": "f3e2a8d0",
   "metadata": {},
   "outputs": [],
   "source": [
    "myset={10,20,30,40,20,30}\n",
    "#One variable,number only can be counted by set once"
   ]
  },
  {
   "cell_type": "code",
   "execution_count": 8,
   "id": "40673e73",
   "metadata": {},
   "outputs": [
    {
     "data": {
      "text/plain": [
       "4"
      ]
     },
     "execution_count": 8,
     "metadata": {},
     "output_type": "execute_result"
    }
   ],
   "source": [
    "len(myset)"
   ]
  },
  {
   "cell_type": "code",
   "execution_count": 9,
   "id": "7e8889bf",
   "metadata": {},
   "outputs": [
    {
     "data": {
      "text/plain": [
       "{10, 20, 30, 40}"
      ]
     },
     "execution_count": 9,
     "metadata": {},
     "output_type": "execute_result"
    }
   ],
   "source": [
    "myset\n"
   ]
  },
  {
   "cell_type": "markdown",
   "id": "234790c4",
   "metadata": {},
   "source": [
    "Tämä joukko sisältää numerot {10, 20, 30, 40, 55, 99}. Huomaa kuitenkin, että jotkut numerot toistuvat. Joukot (set) säilyttävät vain uniikit arvot. Tämän vuoksi toistuvat numerot edustetaan joukossa vain kerran."
   ]
  },
  {
   "cell_type": "code",
   "execution_count": 10,
   "id": "2a74a426",
   "metadata": {},
   "outputs": [],
   "source": [
    "myset2={30,40,50,60,70}\n"
   ]
  },
  {
   "cell_type": "code",
   "execution_count": 11,
   "id": "f64b5bb8",
   "metadata": {},
   "outputs": [
    {
     "data": {
      "text/plain": [
       "{10, 20, 30, 40, 50, 60, 70}"
      ]
     },
     "execution_count": 11,
     "metadata": {},
     "output_type": "execute_result"
    }
   ],
   "source": [
    "myset.union(myset2)"
   ]
  },
  {
   "cell_type": "markdown",
   "id": "dec9f837",
   "metadata": {},
   "source": [
    "union-metodi Pythonissa käytetään kahden joukon unionin suorittamiseen. Se palauttaa uuden joukon, joka sisältää kaikki uniikit elementit molemmista joukoista ilman päällekkäisyyksiä."
   ]
  },
  {
   "cell_type": "code",
   "execution_count": 12,
   "id": "30582fb5",
   "metadata": {},
   "outputs": [
    {
     "data": {
      "text/plain": [
       "{30, 40}"
      ]
     },
     "execution_count": 12,
     "metadata": {},
     "output_type": "execute_result"
    }
   ],
   "source": [
    "myset.intersection(myset2)"
   ]
  },
  {
   "cell_type": "markdown",
   "id": "998b309f",
   "metadata": {},
   "source": [
    "Tässä koodissa meillä on kaksi joukkoa, myset1 ja myset2. intersection-metodia kutsutaan myset1-joukolle myset2-argumentilla. Tuloksena saadaan uusi joukko, joka sisältää vain yhteisen elementin 30,40: {30,40}."
   ]
  },
  {
   "cell_type": "code",
   "execution_count": 15,
   "id": "a27fb059",
   "metadata": {},
   "outputs": [],
   "source": [
    "country_list=[\"Finland\",\"Germany\",\"Holland\",\"France\",\"Finland\",\"Germany\",\"Norway\",\"Sweden\",\"Kanada\",\"France\",\"Finland\",\"Spain\",\"Finland\"]"
   ]
  },
  {
   "cell_type": "code",
   "execution_count": 16,
   "id": "10ccfb51",
   "metadata": {},
   "outputs": [
    {
     "data": {
      "text/plain": [
       "13"
      ]
     },
     "execution_count": 16,
     "metadata": {},
     "output_type": "execute_result"
    }
   ],
   "source": [
    "len(country_list)"
   ]
  },
  {
   "cell_type": "code",
   "execution_count": 17,
   "id": "ea36f64f",
   "metadata": {},
   "outputs": [
    {
     "data": {
      "text/plain": [
       "8"
      ]
     },
     "execution_count": 17,
     "metadata": {},
     "output_type": "execute_result"
    }
   ],
   "source": [
    "len(set(country_list))\n",
    "#Kuinka monta eri maata on olemassa"
   ]
  },
  {
   "cell_type": "code",
   "execution_count": 18,
   "id": "4f9e9cd3",
   "metadata": {},
   "outputs": [
    {
     "data": {
      "text/plain": [
       "{'Finland',\n",
       " 'France',\n",
       " 'Germany',\n",
       " 'Holland',\n",
       " 'Kanada',\n",
       " 'Norway',\n",
       " 'Spain',\n",
       " 'Sweden'}"
      ]
     },
     "execution_count": 18,
     "metadata": {},
     "output_type": "execute_result"
    }
   ],
   "source": [
    "set(country_list)"
   ]
  },
  {
   "cell_type": "markdown",
   "id": "24ead5de",
   "metadata": {},
   "source": [
    "Tässä koodissa on määritelty country_list niminen lista, joka sisältää eri maiden nimiä. set(country_list) -koodi muuttaa tämän listan joukoksi. Joukko sisältää vain yksilölliset (toistumattomat) alkiot.Tässä koodissa on määritelty country_list niminen lista, joka sisältää eri maiden nimiä. set() -funktio muuntaa tämän listan joukoksi. Tuloksena saadaan joukko, joka sisältää vain yksilölliset maat{\"Finland\",\"Germany\",\"Holland\",\"France\",\"Finland\",\"Germany\",\"Norway\",\"Sweden\",\"Kanada\",\"France\",\"Finland\",\"Spain\",\"Finland\"}\n",
    "\n",
    "Tällä tavalla set(country_list) -koodi ottaa vastaan listan maista ja luo joukon, joka sisältää vain yksilölliset maat."
   ]
  },
  {
   "cell_type": "markdown",
   "id": "6623a0dc",
   "metadata": {},
   "source": [
    "miten luodaan tyhjä joukko (set)?\n",
    "empty_set = set()\n",
    "Yllä olevassa koodissa voit luoda tyhjän joukon käyttämällä set() -funktiota. Tällä tavalla empty_set-niminen tyhjä joukko luodaan ja tulostetaan näytölle: set()."
   ]
  },
  {
   "cell_type": "code",
   "execution_count": 23,
   "id": "2d3beb67",
   "metadata": {},
   "outputs": [],
   "source": [
    "emptyset = set()"
   ]
  },
  {
   "cell_type": "code",
   "execution_count": 24,
   "id": "89a4cdd9",
   "metadata": {},
   "outputs": [
    {
     "data": {
      "text/plain": [
       "set"
      ]
     },
     "execution_count": 24,
     "metadata": {},
     "output_type": "execute_result"
    }
   ],
   "source": [
    "type(emptyset)"
   ]
  },
  {
   "cell_type": "code",
   "execution_count": 25,
   "id": "4ac1641b",
   "metadata": {},
   "outputs": [],
   "source": [
    "emptyset.add(10)\n",
    "emptyset.add(20)\n",
    "emptyset.add(30)\n",
    "emptyset.add(10)\n",
    "emptyset.add(20)\n",
    "emptyset.add(40)\n",
    "emptyset.add(10)"
   ]
  },
  {
   "cell_type": "code",
   "execution_count": 26,
   "id": "7fb01b71",
   "metadata": {},
   "outputs": [
    {
     "data": {
      "text/plain": [
       "{10, 20, 30, 40}"
      ]
     },
     "execution_count": 26,
     "metadata": {},
     "output_type": "execute_result"
    }
   ],
   "source": [
    "emptyset"
   ]
  },
  {
   "cell_type": "code",
   "execution_count": 27,
   "id": "37bc6be8",
   "metadata": {},
   "outputs": [],
   "source": [
    "emptylist = list()"
   ]
  },
  {
   "cell_type": "code",
   "execution_count": 28,
   "id": "04829e39",
   "metadata": {},
   "outputs": [
    {
     "data": {
      "text/plain": [
       "[]"
      ]
     },
     "execution_count": 28,
     "metadata": {},
     "output_type": "execute_result"
    }
   ],
   "source": [
    "emptylist"
   ]
  },
  {
   "cell_type": "code",
   "execution_count": 29,
   "id": "f9d06316",
   "metadata": {},
   "outputs": [],
   "source": [
    "emptylist.append(10)\n",
    "emptylist.append(10)\n",
    "emptylist.append(20)\n",
    "emptylist.append(30)\n",
    "emptylist.append(20)"
   ]
  },
  {
   "cell_type": "code",
   "execution_count": 30,
   "id": "2c7895ef",
   "metadata": {},
   "outputs": [
    {
     "data": {
      "text/plain": [
       "[10, 10, 20, 30, 20]"
      ]
     },
     "execution_count": 30,
     "metadata": {},
     "output_type": "execute_result"
    }
   ],
   "source": [
    "emptylist"
   ]
  },
  {
   "cell_type": "code",
   "execution_count": 31,
   "id": "c286cc27",
   "metadata": {},
   "outputs": [],
   "source": [
    "emptydictionary = dict()"
   ]
  },
  {
   "cell_type": "code",
   "execution_count": 34,
   "id": "1d7102fc",
   "metadata": {},
   "outputs": [],
   "source": [
    "emptydictionary [\"a\"] = 10\n",
    "emptydictionary [\"b\"] = 20\n",
    "emptydictionary [\"c\"] = 30\n",
    "\n"
   ]
  },
  {
   "cell_type": "code",
   "execution_count": 35,
   "id": "1c5b8bd8",
   "metadata": {},
   "outputs": [
    {
     "data": {
      "text/plain": [
       "{'a': 10, 'b': 20, 'c': 30}"
      ]
     },
     "execution_count": 35,
     "metadata": {},
     "output_type": "execute_result"
    }
   ],
   "source": [
    "emptydictionary"
   ]
  },
  {
   "cell_type": "code",
   "execution_count": null,
   "id": "edf99515",
   "metadata": {},
   "outputs": [],
   "source": []
  }
 ],
 "metadata": {
  "kernelspec": {
   "display_name": "Python 3 (ipykernel)",
   "language": "python",
   "name": "python3"
  },
  "language_info": {
   "codemirror_mode": {
    "name": "ipython",
    "version": 3
   },
   "file_extension": ".py",
   "mimetype": "text/x-python",
   "name": "python",
   "nbconvert_exporter": "python",
   "pygments_lexer": "ipython3",
   "version": "3.9.13"
  }
 },
 "nbformat": 4,
 "nbformat_minor": 5
}
