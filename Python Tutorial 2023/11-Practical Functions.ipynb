{
 "cells": [
  {
   "cell_type": "code",
   "execution_count": 42,
   "id": "e5dc3cf6",
   "metadata": {},
   "outputs": [],
   "source": [
    "def dividenumber(number):\n",
    "    return number /2"
   ]
  },
  {
   "cell_type": "code",
   "execution_count": 43,
   "id": "2b0ae388",
   "metadata": {},
   "outputs": [
    {
     "data": {
      "text/plain": [
       "175.0"
      ]
     },
     "execution_count": 43,
     "metadata": {},
     "output_type": "execute_result"
    }
   ],
   "source": [
    "dividenumber(350)"
   ]
  },
  {
   "cell_type": "code",
   "execution_count": 34,
   "id": "4109f8a6",
   "metadata": {},
   "outputs": [],
   "source": [
    "mynewlist = [20,30,48,60]"
   ]
  },
  {
   "cell_type": "code",
   "execution_count": 45,
   "id": "d519b8f3",
   "metadata": {},
   "outputs": [],
   "source": [
    "def dividenumber(number):\n",
    "    return number / 2"
   ]
  },
  {
   "cell_type": "code",
   "execution_count": 48,
   "id": "29ad2c58",
   "metadata": {},
   "outputs": [
    {
     "name": "stdout",
     "output_type": "stream",
     "text": [
      "[10.0, 15.0, 24.0, 30.0]\n"
     ]
    }
   ],
   "source": [
    "result = []\n",
    "for num in mynewlist:\n",
    "    result.append(dividenumber(num))\n",
    "print (result)"
   ]
  },
  {
   "cell_type": "code",
   "execution_count": 37,
   "id": "d232aa77",
   "metadata": {},
   "outputs": [],
   "source": [
    "#map"
   ]
  },
  {
   "cell_type": "code",
   "execution_count": 49,
   "id": "3367271d",
   "metadata": {},
   "outputs": [],
   "source": [
    "newlist = [10,20,30,40]"
   ]
  },
  {
   "cell_type": "code",
   "execution_count": 52,
   "id": "c659776f",
   "metadata": {},
   "outputs": [
    {
     "data": {
      "text/plain": [
       "[5.0, 10.0, 15.0, 20.0]"
      ]
     },
     "execution_count": 52,
     "metadata": {},
     "output_type": "execute_result"
    }
   ],
   "source": [
    "list(map(dividenumber,newlist))"
   ]
  },
  {
   "cell_type": "code",
   "execution_count": 55,
   "id": "95831c1a",
   "metadata": {},
   "outputs": [],
   "source": [
    "def controlString(string):\n",
    "    return \"Python\" in string"
   ]
  },
  {
   "cell_type": "code",
   "execution_count": 56,
   "id": "10735c22",
   "metadata": {},
   "outputs": [],
   "source": [
    "stringlist = [\"Python\",\"Python Programming\",\"JavaScript\"]"
   ]
  },
  {
   "cell_type": "code",
   "execution_count": 57,
   "id": "9e010802",
   "metadata": {},
   "outputs": [
    {
     "data": {
      "text/plain": [
       "[True, True, False]"
      ]
     },
     "execution_count": 57,
     "metadata": {},
     "output_type": "execute_result"
    }
   ],
   "source": [
    "list(map(controlString,stringlist))"
   ]
  },
  {
   "cell_type": "code",
   "execution_count": 58,
   "id": "6f0c0767",
   "metadata": {},
   "outputs": [],
   "source": [
    "#Filter"
   ]
  },
  {
   "cell_type": "code",
   "execution_count": 59,
   "id": "793cd2fc",
   "metadata": {},
   "outputs": [
    {
     "data": {
      "text/plain": [
       "['Python', 'Python Programming']"
      ]
     },
     "execution_count": 59,
     "metadata": {},
     "output_type": "execute_result"
    }
   ],
   "source": [
    "list(filter(controlString,stringlist))"
   ]
  },
  {
   "cell_type": "code",
   "execution_count": 60,
   "id": "a6eb34da",
   "metadata": {},
   "outputs": [],
   "source": [
    "#Lambda"
   ]
  },
  {
   "cell_type": "code",
   "execution_count": 61,
   "id": "14c3f341",
   "metadata": {},
   "outputs": [],
   "source": [
    "multiplylambda = lambda num : num *3"
   ]
  },
  {
   "cell_type": "code",
   "execution_count": 62,
   "id": "d9acde3a",
   "metadata": {},
   "outputs": [
    {
     "data": {
      "text/plain": [
       "270"
      ]
     },
     "execution_count": 62,
     "metadata": {},
     "output_type": "execute_result"
    }
   ],
   "source": [
    "multiplylambda (90)"
   ]
  },
  {
   "cell_type": "code",
   "execution_count": 66,
   "id": "22c7c564",
   "metadata": {},
   "outputs": [
    {
     "data": {
      "text/plain": [
       "90"
      ]
     },
     "execution_count": 66,
     "metadata": {},
     "output_type": "execute_result"
    }
   ],
   "source": [
    "result = multiplylambda(30)\n",
    "result"
   ]
  },
  {
   "cell_type": "code",
   "execution_count": 67,
   "id": "82f86c00",
   "metadata": {},
   "outputs": [],
   "source": [
    "numlist = [10,20,30,40,50]"
   ]
  },
  {
   "cell_type": "code",
   "execution_count": 68,
   "id": "4f570b2e",
   "metadata": {},
   "outputs": [
    {
     "data": {
      "text/plain": [
       "[2.5, 5.0, 7.5, 10.0, 12.5]"
      ]
     },
     "execution_count": 68,
     "metadata": {},
     "output_type": "execute_result"
    }
   ],
   "source": [
    "list(map(lambda num: num / 4,numlist))"
   ]
  },
  {
   "cell_type": "markdown",
   "id": "6cb87c65",
   "metadata": {},
   "source": [
    "LEGB on Pythonissa käytetty termi, joka viittaa neljään eri nimetyn muuttujan etsintätasoon tai alueeseen. Se on lyhenne sanoista Local, Enclosing, Global ja Built-in. Näitä tasoja käytetään muuttujien löytämiseen tai arvon arvioimiseen, kun Python-koodia suoritetaan.\n",
    "\n",
    "Tässä on lyhyt selitys jokaisesta alueesta:\n",
    "\n",
    "Local (Paikallinen): Tässä alueessa muuttujat ovat määritettyjä ja näkyviä vain nykyisessä funktiossa tai lohkossa. Ne eivät ole käytettävissä muissa funktioissa tai lohkoissa. Muuttujat, jotka on määritelty funktion sisällä tai lohkon sisällä, ovat paikallisia muuttujia.\n",
    "\n",
    "Enclosing (Sulkeutuva): Tässä alueessa muuttujat ovat määritettyjä ja näkyviä ympäröivässä sisäkkäisessä funktiossa. Jos esimerkiksi sisäkkäisellä tasolla on sisäkkäinen funktio, se voi käyttää muuttujia ulomman funktion sisällä.\n",
    "\n",
    "Global (Globaali): Tässä alueessa muuttujat ovat määritettyjä ja näkyviä koko ohjelman tasolla. Ne ovat globaaleja muuttujia, joihin pääsee käsiksi kaikissa ohjelman osissa.\n",
    "\n",
    "Built-in (Sisäänrakennettu): Tässä alueessa ovat sisäänrakennetut funktiot ja nimet, joita Python tarjoaa valmiiksi. Esimerkiksi print()-funktio tai len()-funktio ovat sisäänrakennettuja nimiä.\n",
    "\n",
    "Python etsii muuttujaa ensin paikallisesta alueesta. Jos sitä ei löydy, se jatkaa sulkeutuvaan alueeseen, sitten globaaliin alueeseen ja lopulta sisäänrakennettuun alueeseen. Jos muuttujaa ei löydy näistä alueista, se aiheuttaa nimen virheen (NameError).\n",
    "\n",
    "Tämä LEGB-nimisääntö auttaa ymmärtämään, miten Python-kieli etsii ja käsittelee muuttujia eri osissa ohjelmaa\n"
   ]
  },
  {
   "cell_type": "code",
   "execution_count": null,
   "id": "a7120c1d",
   "metadata": {},
   "outputs": [],
   "source": [
    "# Globaali muuttuja\n",
    "x = 10\n",
    "\n",
    "def funktio():\n",
    "    # Sulkeutuva muuttuja\n",
    "    y = 20\n",
    "    \n",
    "    def sisafunktio():\n",
    "        # Paikallinen muuttuja\n",
    "        z = 30\n",
    "        print(\"Sisäfunktio:\", x, y, z)  # Käyttää globaalia, sulkeutuvaa ja paikallista muuttujaa\n",
    "    \n",
    "    sisafunktio()\n",
    "\n",
    "funktio()\n",
    "print(\"Globaali muuttuja:\", x)  # Käyttää globaalia muuttujaa\n"
   ]
  },
  {
   "cell_type": "markdown",
   "id": "f12bf476",
   "metadata": {},
   "source": [
    "Tässä esimerkissä on kolme tasoa: globaali taso, sulkeutuva taso ja paikallinen taso.\n",
    "\n",
    "x on globaali muuttuja, jota voidaan käyttää kaikkialla ohjelmassa.\n",
    "y on sulkeutuva muuttuja, joka on määritelty funktio-funktion sisällä. Sisäfunktio sisafunktio voi käyttää tätä muuttujaa, koska se on sen ympäröivässä alueessa.\n",
    "z on paikallinen muuttuja, joka on määritelty sisafunktio-funktion sisällä. Sitä voi käyttää vain kyseisessä funktion sisällä.\n",
    "Kun sisafunktio kutsutaan, se tulostaa x, y ja z -muuttujien arvot. Sitten funktio kutsuu sisafunktio-funktiota. Lopuksi globaalia muuttujaa x käytetään ohjelman ulkopuolella."
   ]
  },
  {
   "cell_type": "code",
   "execution_count": null,
   "id": "ad3239c5",
   "metadata": {},
   "outputs": [],
   "source": [
    "Esimerkin tulostus on seuraava:\n",
    "\n",
    "Sisäfunktio: 10 20 30\n",
    "Globaali muuttuja: 10\n",
    " "
   ]
  },
  {
   "cell_type": "markdown",
   "id": "77094ce8",
   "metadata": {},
   "source": [
    "Tulostus osoittaa, että muuttujat löydetään LEGB-säännön mukaisesti niiden oikeista alueista."
   ]
  },
  {
   "cell_type": "code",
   "execution_count": 69,
   "id": "d97614f9",
   "metadata": {},
   "outputs": [],
   "source": [
    "y = 10 # global \n",
    "def function1(y):\n",
    "    print(y)\n",
    "    y = 5\n",
    "    print(y)\n",
    "    return(y)"
   ]
  },
  {
   "cell_type": "code",
   "execution_count": 76,
   "id": "83245f82",
   "metadata": {},
   "outputs": [
    {
     "name": "stdout",
     "output_type": "stream",
     "text": [
      "10\n",
      "5\n"
     ]
    },
    {
     "data": {
      "text/plain": [
       "5"
      ]
     },
     "execution_count": 76,
     "metadata": {},
     "output_type": "execute_result"
    }
   ],
   "source": [
    "function1(10)"
   ]
  },
  {
   "cell_type": "code",
   "execution_count": null,
   "id": "e14f2524",
   "metadata": {},
   "outputs": [],
   "source": [
    "#how we can chane global y ?"
   ]
  },
  {
   "cell_type": "code",
   "execution_count": 77,
   "id": "635d9ac3",
   "metadata": {},
   "outputs": [],
   "source": [
    "y = 10\n",
    "def changeY():\n",
    "    global y\n",
    "    y = 5\n",
    "    print(y)"
   ]
  },
  {
   "cell_type": "code",
   "execution_count": 80,
   "id": "41cacafc",
   "metadata": {},
   "outputs": [
    {
     "name": "stdout",
     "output_type": "stream",
     "text": [
      "5\n"
     ]
    }
   ],
   "source": [
    "changeY()"
   ]
  },
  {
   "cell_type": "code",
   "execution_count": 81,
   "id": "9238dbc3",
   "metadata": {},
   "outputs": [
    {
     "data": {
      "text/plain": [
       "5"
      ]
     },
     "execution_count": 81,
     "metadata": {},
     "output_type": "execute_result"
    }
   ],
   "source": [
    "y"
   ]
  },
  {
   "cell_type": "code",
   "execution_count": null,
   "id": "dcf39ef7",
   "metadata": {},
   "outputs": [],
   "source": []
  }
 ],
 "metadata": {
  "kernelspec": {
   "display_name": "Python 3 (ipykernel)",
   "language": "python",
   "name": "python3"
  },
  "language_info": {
   "codemirror_mode": {
    "name": "ipython",
    "version": 3
   },
   "file_extension": ".py",
   "mimetype": "text/x-python",
   "name": "python",
   "nbconvert_exporter": "python",
   "pygments_lexer": "ipython3",
   "version": "3.9.13"
  }
 },
 "nbformat": 4,
 "nbformat_minor": 5
}
