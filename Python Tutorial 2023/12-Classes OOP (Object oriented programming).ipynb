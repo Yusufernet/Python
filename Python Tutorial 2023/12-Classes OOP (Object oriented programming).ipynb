{
 "cells": [
  {
   "cell_type": "markdown",
   "id": "08797f5f",
   "metadata": {},
   "source": [
    "Olion suuntautunut ohjelmointi (OOP) on ohjelmointiparadigma, jota käytetään ohjelmoinnissa. Tässä lähestymistavassa oletetaan, että ohjelman perusrakennuspalikat ovat oliot. Jokainen olio on yksikkö, joka sisältää dataa ja sille suoritettavia toimintoja. Oliot luodaan luokan mallin perusteella, ja ne jakavat luokan ominaisuudet ja käyttäytymisen. OOP:n keskeinen tavoite on lisätä koodin uudelleenkäytettävyyttä, ylläpidettävyyttä ja ymmärrettävyyttä."
   ]
  },
  {
   "cell_type": "code",
   "execution_count": 33,
   "id": "d747dd2f",
   "metadata": {},
   "outputs": [],
   "source": [
    " class Lento():\n",
    "        lentoyhtiö=\"Finnair\"\n",
    "        def __init__(self, koodi, lahto, saapuminen, kesto, kapasiteetti, matkustajat):\n",
    "            self.koodi = koodi  # Lennnon koodi\n",
    "            self.lahto = lahto  # Lähtöpaikka\n",
    "            self.saapuminen = saapuminen  # Saapumispaikka\n",
    "            self.kesto = kesto  # Lennnon kesto\n",
    "            self.kapasiteetti = kapasiteetti  # Lentokoneen kapasiteetti\n",
    "            self.matkustajat = matkustajat  # Matkustajien lukumäärä\n",
    "        def ilmoitus(self):\n",
    "            return \"{} lento {}-{} kestää {} minuuttia\".format(\n",
    "            self.koodi,\n",
    "            self.lahto,\n",
    "            self.saapuminen,\n",
    "            self.kesto)\n"
   ]
  },
  {
   "cell_type": "markdown",
   "id": "a93c7c88",
   "metadata": {},
   "source": [
    "Yllä oleva koodi määrittelee luokan \"Ucus\". Tämä luokka edustaa lennon ominaisuuksia.\n",
    "Luokan ominaisuudet ovat: lennon koodi, lähtöpaikka, saapumispaikka, lennon kesto, lentokoneen kapasiteetti ja matkustajien lukumäärä.\n",
    "Lisäksi luokan \"havayolu\" muuttuja on asetettu arvoksi \"Finnair\".\n",
    "\"init\" metodi on luokan rakentaja-metodi. Tämä metodi suoritetaan, kun luokan ilmentymiä luodaan.\n",
    "Metodin parametrit kautta lennon ominaisuudet asetetaan ja ominaisuuksiin pääsemiseksi käytetään \"self\" avainsanaa."
   ]
  },
  {
   "cell_type": "code",
   "execution_count": 39,
   "id": "9cdee5df",
   "metadata": {},
   "outputs": [],
   "source": [
    "lento1 = Lento(\"FIN153\", \"HEL\", \"LON\", 140, 300, 50) "
   ]
  },
  {
   "cell_type": "code",
   "execution_count": 40,
   "id": "8a5c54b0",
   "metadata": {},
   "outputs": [
    {
     "data": {
      "text/plain": [
       "'FIN153 lento HEL-LON kestää 140 minuuttia'"
      ]
     },
     "execution_count": 40,
     "metadata": {},
     "output_type": "execute_result"
    }
   ],
   "source": [
    "lento1.ilmoitus()"
   ]
  },
  {
   "cell_type": "code",
   "execution_count": 41,
   "id": "d769212f",
   "metadata": {},
   "outputs": [
    {
     "data": {
      "text/plain": [
       "'HEL'"
      ]
     },
     "execution_count": 41,
     "metadata": {},
     "output_type": "execute_result"
    }
   ],
   "source": [
    "lento1.lahto"
   ]
  },
  {
   "cell_type": "code",
   "execution_count": 23,
   "id": "6d23f8c9",
   "metadata": {},
   "outputs": [],
   "source": [
    "class Person():\n",
    "    #property\n",
    "    name=\"\"\n",
    "    age= 0\n",
    "    gender=\"\"\n",
    "    #method,init\n",
    "    def __init__(self,name,age,gender):\n",
    "        self.name=name\n",
    "        self.age=age\n",
    "        self.gender=gender\n",
    "    \n",
    "    #method\n",
    "    def test(self):\n",
    "        print(\"test\")\n",
    "    "
   ]
  },
  {
   "cell_type": "code",
   "execution_count": 24,
   "id": "3600aca9",
   "metadata": {},
   "outputs": [],
   "source": [
    "Jussi = Person(\"Jussi\", 30,\"Mies\")"
   ]
  },
  {
   "cell_type": "code",
   "execution_count": 25,
   "id": "e5364669",
   "metadata": {},
   "outputs": [
    {
     "data": {
      "text/plain": [
       "'Jussi'"
      ]
     },
     "execution_count": 25,
     "metadata": {},
     "output_type": "execute_result"
    }
   ],
   "source": [
    "Jussi.name"
   ]
  },
  {
   "cell_type": "code",
   "execution_count": 28,
   "id": "53ef44cf",
   "metadata": {},
   "outputs": [
    {
     "name": "stdout",
     "output_type": "stream",
     "text": [
      "test\n"
     ]
    }
   ],
   "source": [
    "Jussi.test()"
   ]
  },
  {
   "cell_type": "code",
   "execution_count": 139,
   "id": "67767c27",
   "metadata": {},
   "outputs": [],
   "source": [
    "class Lento2():\n",
    "    lentoyhtiö = \"Finnair\"\n",
    "\n",
    "    def __init__(self, koodi, lahto, saapuminen, kesto, kapasiteetti, matkustajat):\n",
    "        self.koodi = koodi  # Lennnon koodi\n",
    "        self.lahto = lahto  # Lähtöpaikka\n",
    "        self.saapuminen = saapuminen  # Saapumispaikka\n",
    "        self.kesto = kesto  # Lennnon kesto\n",
    "        self.kapasiteetti = kapasiteetti  # Lentokoneen kapasiteetti\n",
    "        self.matkustajat = matkustajat  # Matkustajien lukumäärä\n",
    "\n",
    "    def ilmoitus(self):\n",
    "        return \"{} lento {}-{} kestää {} minuuttia\".format(\n",
    "            self.koodi,\n",
    "            self.lahto,\n",
    "            self.saapuminen,\n",
    "            self.kesto\n",
    "        )\n",
    "\n",
    "    def tyhjä_istuin(self):\n",
    "        return self.kapasiteetti - self.matkustajat\n",
    "\n",
    "    def lipunmyynnit(self, lippujen_määrä=1):\n",
    "        if self.matkustajat + lippujen_määrä <= self.kapasiteetti:\n",
    "            self.matkustajat += lippujen_määrä\n",
    "            self.tyhjä_istuin()\n",
    "            print(\"{} liput myyty, jäljellä olevien paikkojen määrä {}\".format(\n",
    "                lippujen_määrä,\n",
    "                self.tyhjä_istuin()\n",
    "            ))\n",
    "        else:\n",
    "            print(\"Lipun ostaminen ei onnistunut, kaikki paikat ovat täynnä\")\n",
    "\n",
    "    def lipun_peruutus(self, peruutusten_määrä=1):\n",
    "        if self.matkustajat >= peruutusten_määrä:\n",
    "            self.matkustajat -= peruutusten_määrä\n",
    "            print(\"{} liput on peruttu, nykyinen paikkoja {}.\".format(\n",
    "                peruutusten_määrä,\n",
    "                self.tyhjä_istuin()))\n",
    "        else:\n",
    "            print(\"Toimenpidettä ei voitu suorittaa. Ei ole tarpeeksi matkustajia peruttavaks\")"
   ]
  },
  {
   "cell_type": "code",
   "execution_count": 153,
   "id": "a472bf03",
   "metadata": {},
   "outputs": [],
   "source": [
    "lento2 = Lento2(\"FIN153\", \"HEL\", \"LON\", 140, 300, 250) "
   ]
  },
  {
   "cell_type": "code",
   "execution_count": 154,
   "id": "68b93491",
   "metadata": {},
   "outputs": [
    {
     "data": {
      "text/plain": [
       "'FIN153'"
      ]
     },
     "execution_count": 154,
     "metadata": {},
     "output_type": "execute_result"
    }
   ],
   "source": [
    "lento2.koodi"
   ]
  },
  {
   "cell_type": "code",
   "execution_count": 155,
   "id": "a030575e",
   "metadata": {},
   "outputs": [
    {
     "data": {
      "text/plain": [
       "50"
      ]
     },
     "execution_count": 155,
     "metadata": {},
     "output_type": "execute_result"
    }
   ],
   "source": [
    "lento2.tyhjä_istuin()"
   ]
  },
  {
   "cell_type": "code",
   "execution_count": 156,
   "id": "61d09d4a",
   "metadata": {},
   "outputs": [
    {
     "name": "stdout",
     "output_type": "stream",
     "text": [
      "5 liput myyty, jäljellä olevien paikkojen määrä 45\n"
     ]
    }
   ],
   "source": [
    "lento2.lipunmyynnit(5)"
   ]
  },
  {
   "cell_type": "code",
   "execution_count": 158,
   "id": "08bce47b",
   "metadata": {},
   "outputs": [
    {
     "name": "stdout",
     "output_type": "stream",
     "text": [
      "Toimenpidettä ei voitu suorittaa. Ei ole tarpeeksi matkustajia peruttavaks\n"
     ]
    }
   ],
   "source": [
    "lento2.lipun_peruutus(300)"
   ]
  },
  {
   "cell_type": "code",
   "execution_count": 172,
   "id": "0146472d",
   "metadata": {},
   "outputs": [],
   "source": [
    "class Person2():\n",
    "    #property\n",
    "    #name=\"\"\n",
    "    #age= 0\n",
    "    #gender=\"\"\n",
    "    job = \"\"\n",
    "    \n",
    "    \n",
    "    #method,init\n",
    "    def __init__(self,name,age,gender,job):\n",
    "        self.name=name\n",
    "        self.age=age\n",
    "        self.gender=gender\n",
    "        self.job=job\n",
    "    \n",
    "    #method\n",
    "    def test(self):\n",
    "        print(\"test\")\n",
    "    "
   ]
  },
  {
   "cell_type": "code",
   "execution_count": 176,
   "id": "32bd2d0b",
   "metadata": {},
   "outputs": [],
   "source": [
    "Yusuf = Person2(\"Yusuf\",25,\"Mies\",\"\")"
   ]
  },
  {
   "cell_type": "code",
   "execution_count": 177,
   "id": "f6993d4e",
   "metadata": {},
   "outputs": [
    {
     "data": {
      "text/plain": [
       "'Yusuf'"
      ]
     },
     "execution_count": 177,
     "metadata": {},
     "output_type": "execute_result"
    }
   ],
   "source": [
    "Yusuf.name"
   ]
  },
  {
   "cell_type": "code",
   "execution_count": 178,
   "id": "3bf5d44c",
   "metadata": {},
   "outputs": [
    {
     "data": {
      "text/plain": [
       "''"
      ]
     },
     "execution_count": 178,
     "metadata": {},
     "output_type": "execute_result"
    }
   ],
   "source": [
    "Yusuf.job"
   ]
  },
  {
   "cell_type": "code",
   "execution_count": 179,
   "id": "62bb8b40",
   "metadata": {},
   "outputs": [],
   "source": [
    "Yusuf.job = \"Software Developer\""
   ]
  },
  {
   "cell_type": "code",
   "execution_count": 180,
   "id": "b03e41fa",
   "metadata": {},
   "outputs": [
    {
     "data": {
      "text/plain": [
       "'Software Developer'"
      ]
     },
     "execution_count": 180,
     "metadata": {},
     "output_type": "execute_result"
    }
   ],
   "source": [
    "Yusuf.job"
   ]
  },
  {
   "cell_type": "code",
   "execution_count": 195,
   "id": "9a95f066",
   "metadata": {},
   "outputs": [],
   "source": [
    "class Dog():\n",
    "    year=7\n",
    "    def __init__(self,age ):\n",
    "        self.age=age\n",
    "        self.dogHumanAge = age * self.year\n",
    "        \n",
    "     \n",
    "    #def humanAge(self):\n",
    "       # return self.age * self.year"
   ]
  },
  {
   "cell_type": "code",
   "execution_count": 196,
   "id": "17c68331",
   "metadata": {},
   "outputs": [],
   "source": [
    "myDog= Dog(3)"
   ]
  },
  {
   "cell_type": "code",
   "execution_count": 197,
   "id": "537a48ef",
   "metadata": {},
   "outputs": [
    {
     "data": {
      "text/plain": [
       "3"
      ]
     },
     "execution_count": 197,
     "metadata": {},
     "output_type": "execute_result"
    }
   ],
   "source": [
    "myDog.age"
   ]
  },
  {
   "cell_type": "code",
   "execution_count": 199,
   "id": "0e339c9f",
   "metadata": {},
   "outputs": [
    {
     "data": {
      "text/plain": [
       "21"
      ]
     },
     "execution_count": 199,
     "metadata": {},
     "output_type": "execute_result"
    }
   ],
   "source": [
    "myDog.dogHumanAge"
   ]
  },
  {
   "cell_type": "code",
   "execution_count": null,
   "id": "587674e4",
   "metadata": {},
   "outputs": [],
   "source": []
  }
 ],
 "metadata": {
  "kernelspec": {
   "display_name": "Python 3 (ipykernel)",
   "language": "python",
   "name": "python3"
  },
  "language_info": {
   "codemirror_mode": {
    "name": "ipython",
    "version": 3
   },
   "file_extension": ".py",
   "mimetype": "text/x-python",
   "name": "python",
   "nbconvert_exporter": "python",
   "pygments_lexer": "ipython3",
   "version": "3.9.13"
  }
 },
 "nbformat": 4,
 "nbformat_minor": 5
}
