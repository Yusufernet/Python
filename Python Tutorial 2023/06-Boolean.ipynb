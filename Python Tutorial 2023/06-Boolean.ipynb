{
 "cells": [
  {
   "cell_type": "code",
   "execution_count": 1,
   "id": "e2b95dcb",
   "metadata": {},
   "outputs": [
    {
     "data": {
      "text/plain": [
       "True"
      ]
     },
     "execution_count": 1,
     "metadata": {},
     "output_type": "execute_result"
    }
   ],
   "source": [
    "True"
   ]
  },
  {
   "cell_type": "code",
   "execution_count": 2,
   "id": "431c3ff5",
   "metadata": {},
   "outputs": [
    {
     "data": {
      "text/plain": [
       "False"
      ]
     },
     "execution_count": 2,
     "metadata": {},
     "output_type": "execute_result"
    }
   ],
   "source": [
    "False"
   ]
  },
  {
   "cell_type": "markdown",
   "id": "afb917c1",
   "metadata": {},
   "source": [
    "Boolean on Python-ohjelmointikielessä käytetty tietotyyppi, joka voi saada vain kaksi arvoa. Nämä kaksi arvoa ovat \"True\" (tosi) ja \"False\" (epätosi). Boolean-arvoja käytetään yleisesti ehtolauseissa, jotka mahdollistavat ohjelman suorittamisen eri toimia sen mukaan, onko tietty ehto tosi vai epätosi.\n",
    "\n",
    "Boolean-arvot saadaan yleensä vertailuoperaattoreiden (> , < , >= , <= , == , !=) ja loogisten operaattorien (and, or, not) tuloksena. Vertailuoperaattorit vertaavat kahta arvoa ja palauttavat boolean-arvon. Esimerkiksi:"
   ]
  },
  {
   "cell_type": "code",
   "execution_count": null,
   "id": "90ce93ad",
   "metadata": {},
   "outputs": [],
   "source": [
    "x = 5\n",
    "y = 10\n",
    "result = x > y\n",
    "print(result)  # Tulostaa False"
   ]
  },
  {
   "cell_type": "markdown",
   "id": "e5b858ad",
   "metadata": {},
   "source": [
    "Tässä esimerkissä x ja y muuttujiin on sijoitettu arvot. x > y -lause tarkistaa, onko x suurempi kuin y. Tulos on False, eli epätosi.\n",
    "\n",
    "Loogiset operaattorit puolestaan toimivat boolean-arvoilla ja tuottavat uuden boolean-arvon. Esimerkiksi:"
   ]
  },
  {
   "cell_type": "code",
   "execution_count": null,
   "id": "63bf32c6",
   "metadata": {},
   "outputs": [],
   "source": [
    "a = True\n",
    "b = False\n",
    "result = a and b\n",
    "print(result)  # Tulostaa False\n"
   ]
  }
 ],
 "metadata": {
  "kernelspec": {
   "display_name": "Python 3 (ipykernel)",
   "language": "python",
   "name": "python3"
  },
  "language_info": {
   "codemirror_mode": {
    "name": "ipython",
    "version": 3
   },
   "file_extension": ".py",
   "mimetype": "text/x-python",
   "name": "python",
   "nbconvert_exporter": "python",
   "pygments_lexer": "ipython3",
   "version": "3.9.13"
  }
 },
 "nbformat": 4,
 "nbformat_minor": 5
}
